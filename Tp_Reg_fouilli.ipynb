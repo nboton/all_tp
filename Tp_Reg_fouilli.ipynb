{
 "cells": [
  {
   "cell_type": "markdown",
   "metadata": {},
   "source": [
    "# MPC - TP - Prediction by regression"
   ]
  },
  {
   "cell_type": "code",
   "execution_count": 1,
   "metadata": {},
   "outputs": [],
   "source": [
    "import pandas as pd\n",
    "import numpy as np\n",
    "import matplotlib.pyplot as plt\n",
    "%matplotlib inline"
   ]
  },
  {
   "cell_type": "code",
   "execution_count": 2,
   "metadata": {},
   "outputs": [
    {
     "data": {
      "text/html": [
       "<div>\n",
       "<style scoped>\n",
       "    .dataframe tbody tr th:only-of-type {\n",
       "        vertical-align: middle;\n",
       "    }\n",
       "\n",
       "    .dataframe tbody tr th {\n",
       "        vertical-align: top;\n",
       "    }\n",
       "\n",
       "    .dataframe thead th {\n",
       "        text-align: right;\n",
       "    }\n",
       "</style>\n",
       "<table border=\"1\" class=\"dataframe\">\n",
       "  <thead>\n",
       "    <tr style=\"text-align: right;\">\n",
       "      <th></th>\n",
       "      <th>y</th>\n",
       "      <th>x1</th>\n",
       "      <th>x2</th>\n",
       "      <th>x3</th>\n",
       "      <th>x4</th>\n",
       "      <th>x5</th>\n",
       "      <th>x6</th>\n",
       "      <th>x7</th>\n",
       "      <th>x8</th>\n",
       "      <th>x9</th>\n",
       "      <th>x10</th>\n",
       "    </tr>\n",
       "  </thead>\n",
       "  <tbody>\n",
       "    <tr>\n",
       "      <th>0</th>\n",
       "      <td>87</td>\n",
       "      <td>15.6</td>\n",
       "      <td>18.5</td>\n",
       "      <td>18.4</td>\n",
       "      <td>4</td>\n",
       "      <td>4</td>\n",
       "      <td>8</td>\n",
       "      <td>0.6946</td>\n",
       "      <td>-1.7101</td>\n",
       "      <td>-0.6946</td>\n",
       "      <td>84</td>\n",
       "    </tr>\n",
       "    <tr>\n",
       "      <th>1</th>\n",
       "      <td>82</td>\n",
       "      <td>17.0</td>\n",
       "      <td>18.4</td>\n",
       "      <td>17.7</td>\n",
       "      <td>5</td>\n",
       "      <td>5</td>\n",
       "      <td>7</td>\n",
       "      <td>-4.3301</td>\n",
       "      <td>-4.0000</td>\n",
       "      <td>-3.0000</td>\n",
       "      <td>87</td>\n",
       "    </tr>\n",
       "    <tr>\n",
       "      <th>2</th>\n",
       "      <td>92</td>\n",
       "      <td>15.3</td>\n",
       "      <td>17.6</td>\n",
       "      <td>19.5</td>\n",
       "      <td>2</td>\n",
       "      <td>5</td>\n",
       "      <td>4</td>\n",
       "      <td>2.9544</td>\n",
       "      <td>1.8794</td>\n",
       "      <td>0.5209</td>\n",
       "      <td>82</td>\n",
       "    </tr>\n",
       "    <tr>\n",
       "      <th>3</th>\n",
       "      <td>114</td>\n",
       "      <td>16.2</td>\n",
       "      <td>19.7</td>\n",
       "      <td>22.5</td>\n",
       "      <td>1</td>\n",
       "      <td>1</td>\n",
       "      <td>0</td>\n",
       "      <td>0.9848</td>\n",
       "      <td>0.3473</td>\n",
       "      <td>-0.1736</td>\n",
       "      <td>92</td>\n",
       "    </tr>\n",
       "    <tr>\n",
       "      <th>4</th>\n",
       "      <td>94</td>\n",
       "      <td>17.4</td>\n",
       "      <td>20.5</td>\n",
       "      <td>20.4</td>\n",
       "      <td>8</td>\n",
       "      <td>8</td>\n",
       "      <td>7</td>\n",
       "      <td>-0.5000</td>\n",
       "      <td>-2.9544</td>\n",
       "      <td>-4.3301</td>\n",
       "      <td>114</td>\n",
       "    </tr>\n",
       "    <tr>\n",
       "      <th>...</th>\n",
       "      <td>...</td>\n",
       "      <td>...</td>\n",
       "      <td>...</td>\n",
       "      <td>...</td>\n",
       "      <td>...</td>\n",
       "      <td>...</td>\n",
       "      <td>...</td>\n",
       "      <td>...</td>\n",
       "      <td>...</td>\n",
       "      <td>...</td>\n",
       "      <td>...</td>\n",
       "    </tr>\n",
       "    <tr>\n",
       "      <th>96</th>\n",
       "      <td>84</td>\n",
       "      <td>13.3</td>\n",
       "      <td>17.7</td>\n",
       "      <td>17.8</td>\n",
       "      <td>3</td>\n",
       "      <td>5</td>\n",
       "      <td>6</td>\n",
       "      <td>0.0000</td>\n",
       "      <td>-1.0000</td>\n",
       "      <td>-1.2856</td>\n",
       "      <td>76</td>\n",
       "    </tr>\n",
       "    <tr>\n",
       "      <th>97</th>\n",
       "      <td>77</td>\n",
       "      <td>16.2</td>\n",
       "      <td>20.8</td>\n",
       "      <td>22.1</td>\n",
       "      <td>6</td>\n",
       "      <td>5</td>\n",
       "      <td>5</td>\n",
       "      <td>-0.6946</td>\n",
       "      <td>-2.0000</td>\n",
       "      <td>-1.3681</td>\n",
       "      <td>71</td>\n",
       "    </tr>\n",
       "    <tr>\n",
       "      <th>98</th>\n",
       "      <td>99</td>\n",
       "      <td>16.9</td>\n",
       "      <td>23.0</td>\n",
       "      <td>22.6</td>\n",
       "      <td>6</td>\n",
       "      <td>4</td>\n",
       "      <td>7</td>\n",
       "      <td>1.5000</td>\n",
       "      <td>0.8682</td>\n",
       "      <td>0.8682</td>\n",
       "      <td>77</td>\n",
       "    </tr>\n",
       "    <tr>\n",
       "      <th>99</th>\n",
       "      <td>83</td>\n",
       "      <td>16.9</td>\n",
       "      <td>19.8</td>\n",
       "      <td>22.1</td>\n",
       "      <td>6</td>\n",
       "      <td>5</td>\n",
       "      <td>3</td>\n",
       "      <td>-4.0000</td>\n",
       "      <td>-3.7588</td>\n",
       "      <td>-4.0000</td>\n",
       "      <td>99</td>\n",
       "    </tr>\n",
       "    <tr>\n",
       "      <th>100</th>\n",
       "      <td>70</td>\n",
       "      <td>15.7</td>\n",
       "      <td>18.6</td>\n",
       "      <td>20.7</td>\n",
       "      <td>7</td>\n",
       "      <td>7</td>\n",
       "      <td>7</td>\n",
       "      <td>0.0000</td>\n",
       "      <td>-1.0419</td>\n",
       "      <td>-4.0000</td>\n",
       "      <td>83</td>\n",
       "    </tr>\n",
       "  </tbody>\n",
       "</table>\n",
       "<p>101 rows × 11 columns</p>\n",
       "</div>"
      ],
      "text/plain": [
       "       y    x1    x2    x3  x4  x5  x6      x7      x8      x9  x10\n",
       "0     87  15.6  18.5  18.4   4   4   8  0.6946 -1.7101 -0.6946   84\n",
       "1     82  17.0  18.4  17.7   5   5   7 -4.3301 -4.0000 -3.0000   87\n",
       "2     92  15.3  17.6  19.5   2   5   4  2.9544  1.8794  0.5209   82\n",
       "3    114  16.2  19.7  22.5   1   1   0  0.9848  0.3473 -0.1736   92\n",
       "4     94  17.4  20.5  20.4   8   8   7 -0.5000 -2.9544 -4.3301  114\n",
       "..   ...   ...   ...   ...  ..  ..  ..     ...     ...     ...  ...\n",
       "96    84  13.3  17.7  17.8   3   5   6  0.0000 -1.0000 -1.2856   76\n",
       "97    77  16.2  20.8  22.1   6   5   5 -0.6946 -2.0000 -1.3681   71\n",
       "98    99  16.9  23.0  22.6   6   4   7  1.5000  0.8682  0.8682   77\n",
       "99    83  16.9  19.8  22.1   6   5   3 -4.0000 -3.7588 -4.0000   99\n",
       "100   70  15.7  18.6  20.7   7   7   7  0.0000 -1.0419 -4.0000   83\n",
       "\n",
       "[101 rows x 11 columns]"
      ]
     },
     "execution_count": 2,
     "metadata": {},
     "output_type": "execute_result"
    }
   ],
   "source": [
    "# Load the data\n",
    "ozone = pd.read_csv('ozone.txt', sep = ' ')\n",
    "ozone\n",
    "# y is the target variable, the other are predictive variables"
   ]
  },
  {
   "cell_type": "raw",
   "metadata": {},
   "source": [
    "Question : How many individuals are there in this dataset ? How many variables (including the target one) describe them ?"
   ]
  },
  {
   "cell_type": "code",
   "execution_count": 3,
   "metadata": {},
   "outputs": [
    {
     "data": {
      "text/plain": [
       "(101, 11)"
      ]
     },
     "execution_count": 3,
     "metadata": {},
     "output_type": "execute_result"
    }
   ],
   "source": [
    "ozone.shape"
   ]
  },
  {
   "cell_type": "raw",
   "metadata": {},
   "source": [
    "101 individuals and 11 variables"
   ]
  },
  {
   "cell_type": "raw",
   "metadata": {},
   "source": [
    "This dataset represents some meteorological information taken at different days during different periods.\n",
    " - y represents the maximal ozone (O3) concentration in the air during a given day\n",
    " - x1, x2, x3 are the temperatures at 9am, 12am, and 3pm during the same day\n",
    " - x4, x5, x6 represent the cloudiness at 9am, 12am, and 3pm during the same day\n",
    " - x7, x8, x9 represent the wind projected on the axis East-West at 9am, 12am, and 3pm during the same day\n",
    " - x10 is the maximal ozone (O3) concentration in the air during the day before.\n",
    " \n",
    "In this TP, we aim at predicting y using one or more of the available predictive variables (x1 to x10).\n",
    "We will apply the different techniques seen during the course to evaluate different regression models and try to choose the most adapted one."
   ]
  },
  {
   "cell_type": "markdown",
   "metadata": {},
   "source": [
    "## Exercise 1 : Simple linear regression to predict y"
   ]
  },
  {
   "cell_type": "raw",
   "metadata": {},
   "source": [
    "In this exercice, we will assume that we can only use one variable to predict y. Our objective is to find which variable is the best one for that.\n",
    "We will start by considering x1 to predict y."
   ]
  },
  {
   "cell_type": "raw",
   "metadata": {},
   "source": [
    "Question : Draw a plot to visualize the relationship between x1 (x-axis) and y (y-axis)\n",
    "Add a title, and labels for the axes.\n",
    "Hint : We want to visualize the points in a 2D graph (no line between the points).\n",
    "plt.scatter makes the job, or plt.plot but with 'o' as parameter to indicate that we want only the points (no lines)"
   ]
  },
  {
   "cell_type": "code",
   "execution_count": 4,
   "metadata": {},
   "outputs": [
    {
     "data": {
      "text/plain": [
       "Text(0, 0.5, 'Ozone concentration')"
      ]
     },
     "execution_count": 4,
     "metadata": {},
     "output_type": "execute_result"
    },
    {
     "data": {
      "image/png": "[encoded data removed]",
      "text/plain": [
       "<Figure size 864x720 with 1 Axes>"
      ]
     },
     "metadata": {
      "needs_background": "light"
     },
     "output_type": "display_data"
    }
   ],
   "source": [
    "plt.figure(figsize=(12, 10))\n",
    "\n",
    "#data_x1 = pd.DataFrame(ozone, columns=['x1'])\n",
    "#data_y = pd.DataFrame(ozone, columns=['y'])\n",
    "\n",
    "data_x1 = ozone['x1']\n",
    "data_y = ozone['y']\n",
    "\n",
    "plt.scatter(data_x1,data_y, marker = 'o', c = 'green' )\n",
    "\n",
    "#plt.scatter(data_x1, marker = 'o', color = 'green', label = 'Linear regression')\n",
    "\n",
    "plt.title(\"Simple linear regression\") # gives a title to the figure\n",
    "plt.xlabel(\"Temperature\") # gives a label to the x-axis\n",
    "plt.ylabel(\"Ozone concentration\")# gives a label to the y-axis"
   ]
  },
  {
   "cell_type": "raw",
   "metadata": {},
   "source": [
    "Question : Do you think that a regression model can help here to predict y using x1 ?"
   ]
  },
  {
   "cell_type": "raw",
   "metadata": {},
   "source": [
    "Oui, la repartition des points peut etre approximée par une droite"
   ]
  },
  {
   "cell_type": "raw",
   "metadata": {},
   "source": [
    "We will now create a regression model with y as target variable and x1 as predictive variable.\n",
    "For that, there are different possibilities in Python. We will use here the OLS function of the statsmodel package.\n",
    "It works like this: "
   ]
  },
  {
   "cell_type": "code",
   "execution_count": 5,
   "metadata": {},
   "outputs": [
    {
     "name": "stdout",
     "output_type": "stream",
     "text": [
      "     const    x1\n",
      "0      1.0  15.6\n",
      "1      1.0  17.0\n",
      "2      1.0  15.3\n",
      "3      1.0  16.2\n",
      "4      1.0  17.4\n",
      "..     ...   ...\n",
      "96     1.0  13.3\n",
      "97     1.0  16.2\n",
      "98     1.0  16.9\n",
      "99     1.0  16.9\n",
      "100    1.0  15.7\n",
      "\n",
      "[101 rows x 2 columns]\n"
     ]
    },
    {
     "data": {
      "text/html": [
       "<table class=\"simpletable\">\n",
       "<caption>OLS Regression Results</caption>\n",
       "<tr>\n",
       "  <th>Dep. Variable:</th>            <td>y</td>        <th>  R-squared:         </th> <td>   0.516</td>\n",
       "</tr>\n",
       "<tr>\n",
       "  <th>Model:</th>                   <td>OLS</td>       <th>  Adj. R-squared:    </th> <td>   0.511</td>\n",
       "</tr>\n",
       "<tr>\n",
       "  <th>Method:</th>             <td>Least Squares</td>  <th>  F-statistic:       </th> <td>   105.5</td>\n",
       "</tr>\n",
       "<tr>\n",
       "  <th>Date:</th>             <td>Mon, 12 Apr 2021</td> <th>  Prob (F-statistic):</th> <td>2.78e-17</td>\n",
       "</tr>\n",
       "<tr>\n",
       "  <th>Time:</th>                 <td>17:38:24</td>     <th>  Log-Likelihood:    </th> <td> -444.69</td>\n",
       "</tr>\n",
       "<tr>\n",
       "  <th>No. Observations:</th>      <td>   101</td>      <th>  AIC:               </th> <td>   893.4</td>\n",
       "</tr>\n",
       "<tr>\n",
       "  <th>Df Residuals:</th>          <td>    99</td>      <th>  BIC:               </th> <td>   898.6</td>\n",
       "</tr>\n",
       "<tr>\n",
       "  <th>Df Model:</th>              <td>     1</td>      <th>                     </th>     <td> </td>   \n",
       "</tr>\n",
       "<tr>\n",
       "  <th>Covariance Type:</th>      <td>nonrobust</td>    <th>                     </th>     <td> </td>   \n",
       "</tr>\n",
       "</table>\n",
       "<table class=\"simpletable\">\n",
       "<tr>\n",
       "    <td></td>       <th>coef</th>     <th>std err</th>      <th>t</th>      <th>P>|t|</th>  <th>[0.025</th>    <th>0.975]</th>  \n",
       "</tr>\n",
       "<tr>\n",
       "  <th>const</th> <td>  -33.0106</td> <td>   12.221</td> <td>   -2.701</td> <td> 0.008</td> <td>  -57.259</td> <td>   -8.762</td>\n",
       "</tr>\n",
       "<tr>\n",
       "  <th>x1</th>    <td>    6.7460</td> <td>    0.657</td> <td>   10.273</td> <td> 0.000</td> <td>    5.443</td> <td>    8.049</td>\n",
       "</tr>\n",
       "</table>\n",
       "<table class=\"simpletable\">\n",
       "<tr>\n",
       "  <th>Omnibus:</th>       <td> 2.779</td> <th>  Durbin-Watson:     </th> <td>   0.900</td>\n",
       "</tr>\n",
       "<tr>\n",
       "  <th>Prob(Omnibus):</th> <td> 0.249</td> <th>  Jarque-Bera (JB):  </th> <td>   2.289</td>\n",
       "</tr>\n",
       "<tr>\n",
       "  <th>Skew:</th>          <td> 0.360</td> <th>  Prob(JB):          </th> <td>   0.318</td>\n",
       "</tr>\n",
       "<tr>\n",
       "  <th>Kurtosis:</th>      <td> 3.163</td> <th>  Cond. No.          </th> <td>    115.</td>\n",
       "</tr>\n",
       "</table><br/><br/>Notes:<br/>[1] Standard Errors assume that the covariance matrix of the errors is correctly specified."
      ],
      "text/plain": [
       "<class 'statsmodels.iolib.summary.Summary'>\n",
       "\"\"\"\n",
       "                            OLS Regression Results                            \n",
       "==============================================================================\n",
       "Dep. Variable:                      y   R-squared:                       0.516\n",
       "Model:                            OLS   Adj. R-squared:                  0.511\n",
       "Method:                 Least Squares   F-statistic:                     105.5\n",
       "Date:                Mon, 12 Apr 2021   Prob (F-statistic):           2.78e-17\n",
       "Time:                        17:38:24   Log-Likelihood:                -444.69\n",
       "No. Observations:                 101   AIC:                             893.4\n",
       "Df Residuals:                      99   BIC:                             898.6\n",
       "Df Model:                           1                                         \n",
       "Covariance Type:            nonrobust                                         \n",
       "==============================================================================\n",
       "                 coef    std err          t      P>|t|      [0.025      0.975]\n",
       "------------------------------------------------------------------------------\n",
       "const        -33.0106     12.221     -2.701      0.008     -57.259      -8.762\n",
       "x1             6.7460      0.657     10.273      0.000       5.443       8.049\n",
       "==============================================================================\n",
       "Omnibus:                        2.779   Durbin-Watson:                   0.900\n",
       "Prob(Omnibus):                  0.249   Jarque-Bera (JB):                2.289\n",
       "Skew:                           0.360   Prob(JB):                        0.318\n",
       "Kurtosis:                       3.163   Cond. No.                         115.\n",
       "==============================================================================\n",
       "\n",
       "Notes:\n",
       "[1] Standard Errors assume that the covariance matrix of the errors is correctly specified.\n",
       "\"\"\""
      ]
     },
     "execution_count": 5,
     "metadata": {},
     "output_type": "execute_result"
    }
   ],
   "source": [
    "import statsmodels.api as sm\n",
    "X = ozone['x1'] # Select the column containing the predictive variable\n",
    "X = sm.add_constant(X) # add a constant column for the constant term of the model (for the parameter beta_0)\n",
    "print(X) # you should see 2 columns in X : a constant one (const) with ones everywhere and another with the values of x1\n",
    "Y = ozone['y'] # Select the target variable and store it in Y\n",
    "model = sm.OLS(Y, X).fit() # fit the model to predict Y using X\n",
    "model.summary()"
   ]
  },
  {
   "cell_type": "raw",
   "metadata": {},
   "source": [
    "You can see above a lot of informations about the created model. The things that we need are : \n",
    "    - the coefficients of the model : in the column 'coef'. 2 coefficients here (beta0 for const and beta1 for x1). You can access them by model.params\n",
    "    - the uncertainty about the estimation of the coefficient : column 'std err'. We are only interested in the one for beta_1. You can access them by model.bse\n",
    "    - the value of the student's test about x1 : in the column 't'. You can access it by model.tvalues\n",
    "    - the critical probability of the student's test about x1 : column 'P>|t|'. You can access it by model.pvalues"
   ]
  },
  {
   "cell_type": "raw",
   "metadata": {},
   "source": [
    "Questions : \n",
    " - What is the equation of the model ?\n",
    " - What can you conclude about the influence of x1 on y ?"
   ]
  },
  {
   "cell_type": "raw",
   "metadata": {},
   "source": [
    "y=-33.0106 + 6.7460*x1"
   ]
  },
  {
   "cell_type": "raw",
   "metadata": {},
   "source": [
    "P>|t| = 0.000 << 0.05 donc x1 influence bien y"
   ]
  },
  {
   "cell_type": "raw",
   "metadata": {},
   "source": [
    "Questions: \n",
    " - What should be the prediction made by the model for the first individual of the ozone dataset ? (index 0)\n",
    " - What is the residual (error) for this individual ?"
   ]
  },
  {
   "cell_type": "code",
   "execution_count": 6,
   "metadata": {},
   "outputs": [
    {
     "data": {
      "text/plain": [
       "14.772999999999996"
      ]
     },
     "execution_count": 6,
     "metadata": {},
     "output_type": "execute_result"
    }
   ],
   "source": [
    "y=-33.0106 + 6.7460*ozone['x1'][0]\n",
    "y\n",
    "\n",
    "r = (ozone['y'][0]-y)\n",
    "r"
   ]
  },
  {
   "cell_type": "code",
   "execution_count": 7,
   "metadata": {},
   "outputs": [
    {
     "data": {
      "text/plain": [
       "0      72.226485\n",
       "1      81.670840\n",
       "2      70.202695\n",
       "3      76.274066\n",
       "4      84.369227\n",
       "         ...    \n",
       "96     56.710759\n",
       "97     76.274066\n",
       "98     80.996243\n",
       "99     80.996243\n",
       "100    72.901082\n",
       "Length: 101, dtype: float64"
      ]
     },
     "execution_count": 7,
     "metadata": {},
     "output_type": "execute_result"
    }
   ],
   "source": [
    "# All the predictions made by the model on the dataset used to fit the model can be accessed by\n",
    "model.fittedvalues\n",
    "# Check that the fitted value for the first individual is equal to the one you computed above"
   ]
  },
  {
   "cell_type": "code",
   "execution_count": 8,
   "metadata": {},
   "outputs": [
    {
     "data": {
      "text/plain": [
       "0      14.773515\n",
       "1       0.329160\n",
       "2      21.797305\n",
       "3      37.725934\n",
       "4       9.630773\n",
       "         ...    \n",
       "96     27.289241\n",
       "97      0.725934\n",
       "98     18.003757\n",
       "99      2.003757\n",
       "100    -2.901082\n",
       "Length: 101, dtype: float64"
      ]
     },
     "execution_count": 8,
     "metadata": {},
     "output_type": "execute_result"
    }
   ],
   "source": [
    "# All the residuals made by the model on the dataset used to fit the model can be accessed by\n",
    "model.resid\n",
    "# Check that the residual for the first individual is equal to the one you computed above"
   ]
  },
  {
   "cell_type": "raw",
   "metadata": {},
   "source": [
    "Question : Plot on the same graph the data (y VS x1, as before) and the regression model (the fitted values define the regression line). Add labels to the axis and a legend"
   ]
  },
  {
   "cell_type": "code",
   "execution_count": 9,
   "metadata": {},
   "outputs": [
    {
     "data": {
      "text/plain": [
       "Text(0, 0.5, 'Ozone concentration')"
      ]
     },
     "execution_count": 9,
     "metadata": {},
     "output_type": "execute_result"
    },
    {
     "data": {
      "image/png": "[encoded data removed]",
      "text/plain": [
       "<Figure size 864x720 with 1 Axes>"
      ]
     },
     "metadata": {
      "needs_background": "light"
     },
     "output_type": "display_data"
    }
   ],
   "source": [
    "plt.figure(figsize=(12, 10))\n",
    "\n",
    "#data_x1 = pd.DataFrame(ozone, columns=['x1'])\n",
    "#data_y = pd.DataFrame(ozone, columns=['y'])\n",
    "\n",
    "data_x1 = ozone['x1']\n",
    "data_y = ozone['y']\n",
    "data_reg = model.fittedvalues\n",
    "\n",
    "plt.scatter(data_x1,data_y, marker = 'o', c = 'green' )\n",
    "plt.plot(data_x1,data_reg, c = 'blue' )\n",
    "\n",
    "#plt.scatter(data_x1, marker = 'o', color = 'green', label = 'Linear regression')\n",
    "\n",
    "plt.title(\"Simple linear regression\") # gives a title to the figure\n",
    "plt.xlabel(\"Temperature\") # gives a label to the x-axis\n",
    "plt.ylabel(\"Ozone concentration\")# gives a label to the y-axis"
   ]
  },
  {
   "cell_type": "raw",
   "metadata": {},
   "source": [
    "We have seen in the CM two important quantities related to a regression model : the coefficient of determination (R^2) and I_r, the sum of squared residuals (residuals are errors made by the model on the data used to create it).\n",
    "The R^2 can be obtained by model.rsquared \n",
    "The residuals can be obtained by model.resid as explained before"
   ]
  },
  {
   "cell_type": "raw",
   "metadata": {},
   "source": [
    "Questions : \n",
    " - What is the R^2 of this model ?\n",
    " - Compute I_r\n",
    " - Compute I_t according to the formula in the slides. (you can use np.sum() and np.mean())\n",
    " - Deduce I_m \n"
   ]
  },
  {
   "cell_type": "code",
   "execution_count": 10,
   "metadata": {},
   "outputs": [
    {
     "data": {
      "text/plain": [
       "0.5159750701422355"
      ]
     },
     "execution_count": 10,
     "metadata": {},
     "output_type": "execute_result"
    }
   ],
   "source": [
    "r_carre = model.rsquared\n",
    "r_carre"
   ]
  },
  {
   "cell_type": "code",
   "execution_count": 11,
   "metadata": {},
   "outputs": [
    {
     "data": {
      "text/plain": [
       "39455.804936241766"
      ]
     },
     "execution_count": 11,
     "metadata": {},
     "output_type": "execute_result"
    }
   ],
   "source": [
    "I_r = np.sum((ozone['y'] - model.fittedvalues)**2)\n",
    "I_r"
   ]
  },
  {
   "cell_type": "code",
   "execution_count": 12,
   "metadata": {},
   "outputs": [
    {
     "data": {
      "text/plain": [
       "81516.05940594061"
      ]
     },
     "execution_count": 12,
     "metadata": {},
     "output_type": "execute_result"
    }
   ],
   "source": [
    "y_moy = np.mean(ozone['y'])\n",
    "I_t = np.sum((ozone['y'] - y_moy)**2)\n",
    "I_t"
   ]
  },
  {
   "cell_type": "code",
   "execution_count": 13,
   "metadata": {},
   "outputs": [
    {
     "data": {
      "text/plain": [
       "42060.25446969885"
      ]
     },
     "execution_count": 13,
     "metadata": {},
     "output_type": "execute_result"
    }
   ],
   "source": [
    "I_m = I_t - I_r\n",
    "I_m"
   ]
  },
  {
   "cell_type": "raw",
   "metadata": {},
   "source": [
    "To compare models with one predictive variable, we can use :\n",
    " - R^2 (higher is better)\n",
    " - I_r (lower is better)\n",
    " - the critical probability of the student's test on the predictive variable (lower is better)\n",
    "We have seen how to get these 3 quantities.\n",
    "We will now try another simple regression model (with another predictive variable) and compare these quantities."
   ]
  },
  {
   "cell_type": "raw",
   "metadata": {},
   "source": [
    "Question : Compute these quantities for a simple regression model that predicts y using x4. Which variable (x1 or x4) seems more adpated to predict y ?"
   ]
  },
  {
   "cell_type": "code",
   "execution_count": 74,
   "metadata": {},
   "outputs": [
    {
     "name": "stdout",
     "output_type": "stream",
     "text": [
      "     const  x4\n",
      "0      1.0   4\n",
      "1      1.0   5\n",
      "2      1.0   2\n",
      "3      1.0   1\n",
      "4      1.0   8\n",
      "..     ...  ..\n",
      "96     1.0   3\n",
      "97     1.0   6\n",
      "98     1.0   6\n",
      "99     1.0   6\n",
      "100    1.0   7\n",
      "\n",
      "[101 rows x 2 columns]\n"
     ]
    },
    {
     "data": {
      "text/html": [
       "<table class=\"simpletable\">\n",
       "<caption>OLS Regression Results</caption>\n",
       "<tr>\n",
       "  <th>Dep. Variable:</th>            <td>y</td>        <th>  R-squared:         </th> <td>   0.378</td>\n",
       "</tr>\n",
       "<tr>\n",
       "  <th>Model:</th>                   <td>OLS</td>       <th>  Adj. R-squared:    </th> <td>   0.372</td>\n",
       "</tr>\n",
       "<tr>\n",
       "  <th>Method:</th>             <td>Least Squares</td>  <th>  F-statistic:       </th> <td>   60.21</td>\n",
       "</tr>\n",
       "<tr>\n",
       "  <th>Date:</th>             <td>Mon, 12 Apr 2021</td> <th>  Prob (F-statistic):</th> <td>7.83e-12</td>\n",
       "</tr>\n",
       "<tr>\n",
       "  <th>Time:</th>                 <td>17:55:57</td>     <th>  Log-Likelihood:    </th> <td> -457.34</td>\n",
       "</tr>\n",
       "<tr>\n",
       "  <th>No. Observations:</th>      <td>   101</td>      <th>  AIC:               </th> <td>   918.7</td>\n",
       "</tr>\n",
       "<tr>\n",
       "  <th>Df Residuals:</th>          <td>    99</td>      <th>  BIC:               </th> <td>   923.9</td>\n",
       "</tr>\n",
       "<tr>\n",
       "  <th>Df Model:</th>              <td>     1</td>      <th>                     </th>     <td> </td>   \n",
       "</tr>\n",
       "<tr>\n",
       "  <th>Covariance Type:</th>      <td>nonrobust</td>    <th>                     </th>     <td> </td>   \n",
       "</tr>\n",
       "</table>\n",
       "<table class=\"simpletable\">\n",
       "<tr>\n",
       "    <td></td>       <th>coef</th>     <th>std err</th>      <th>t</th>      <th>P>|t|</th>  <th>[0.025</th>    <th>0.975]</th>  \n",
       "</tr>\n",
       "<tr>\n",
       "  <th>const</th> <td>  124.1098</td> <td>    4.840</td> <td>   25.640</td> <td> 0.000</td> <td>  114.505</td> <td>  133.714</td>\n",
       "</tr>\n",
       "<tr>\n",
       "  <th>x4</th>    <td>   -6.6894</td> <td>    0.862</td> <td>   -7.759</td> <td> 0.000</td> <td>   -8.400</td> <td>   -4.979</td>\n",
       "</tr>\n",
       "</table>\n",
       "<table class=\"simpletable\">\n",
       "<tr>\n",
       "  <th>Omnibus:</th>       <td> 8.975</td> <th>  Durbin-Watson:     </th> <td>   0.921</td>\n",
       "</tr>\n",
       "<tr>\n",
       "  <th>Prob(Omnibus):</th> <td> 0.011</td> <th>  Jarque-Bera (JB):  </th> <td>   9.441</td>\n",
       "</tr>\n",
       "<tr>\n",
       "  <th>Skew:</th>          <td> 0.749</td> <th>  Prob(JB):          </th> <td> 0.00891</td>\n",
       "</tr>\n",
       "<tr>\n",
       "  <th>Kurtosis:</th>      <td> 2.999</td> <th>  Cond. No.          </th> <td>    12.4</td>\n",
       "</tr>\n",
       "</table><br/><br/>Notes:<br/>[1] Standard Errors assume that the covariance matrix of the errors is correctly specified."
      ],
      "text/plain": [
       "<class 'statsmodels.iolib.summary.Summary'>\n",
       "\"\"\"\n",
       "                            OLS Regression Results                            \n",
       "==============================================================================\n",
       "Dep. Variable:                      y   R-squared:                       0.378\n",
       "Model:                            OLS   Adj. R-squared:                  0.372\n",
       "Method:                 Least Squares   F-statistic:                     60.21\n",
       "Date:                Mon, 12 Apr 2021   Prob (F-statistic):           7.83e-12\n",
       "Time:                        17:55:57   Log-Likelihood:                -457.34\n",
       "No. Observations:                 101   AIC:                             918.7\n",
       "Df Residuals:                      99   BIC:                             923.9\n",
       "Df Model:                           1                                         \n",
       "Covariance Type:            nonrobust                                         \n",
       "==============================================================================\n",
       "                 coef    std err          t      P>|t|      [0.025      0.975]\n",
       "------------------------------------------------------------------------------\n",
       "const        124.1098      4.840     25.640      0.000     114.505     133.714\n",
       "x4            -6.6894      0.862     -7.759      0.000      -8.400      -4.979\n",
       "==============================================================================\n",
       "Omnibus:                        8.975   Durbin-Watson:                   0.921\n",
       "Prob(Omnibus):                  0.011   Jarque-Bera (JB):                9.441\n",
       "Skew:                           0.749   Prob(JB):                      0.00891\n",
       "Kurtosis:                       2.999   Cond. No.                         12.4\n",
       "==============================================================================\n",
       "\n",
       "Notes:\n",
       "[1] Standard Errors assume that the covariance matrix of the errors is correctly specified.\n",
       "\"\"\""
      ]
     },
     "execution_count": 74,
     "metadata": {},
     "output_type": "execute_result"
    }
   ],
   "source": [
    "import statsmodels.api as sm\n",
    "X = ozone['x4'] # Select the column containing the predictive variable\n",
    "X = sm.add_constant(X) # add a constant column for the constant term of the model (for the parameter beta_0)\n",
    "print(X) # you should see 2 columns in X : a constant one (const) with ones everywhere and another with the values of x1\n",
    "Y = ozone['y'] # Select the target variable and store it in Y\n",
    "model = sm.OLS(Y, X).fit() # fit the model to predict Y using X\n",
    "model.summary()"
   ]
  },
  {
   "cell_type": "code",
   "execution_count": 75,
   "metadata": {},
   "outputs": [
    {
     "data": {
      "text/plain": [
       "0.37817872554611"
      ]
     },
     "execution_count": 75,
     "metadata": {},
     "output_type": "execute_result"
    }
   ],
   "source": [
    "r_carre = model.rsquared\n",
    "r_carre"
   ]
  },
  {
   "cell_type": "code",
   "execution_count": 76,
   "metadata": {},
   "outputs": [
    {
     "data": {
      "text/plain": [
       "50688.419948261"
      ]
     },
     "execution_count": 76,
     "metadata": {},
     "output_type": "execute_result"
    }
   ],
   "source": [
    "I_r = np.sum((ozone['y'] - model.fittedvalues)**2)\n",
    "I_r"
   ]
  },
  {
   "cell_type": "code",
   "execution_count": 77,
   "metadata": {},
   "outputs": [
    {
     "data": {
      "text/plain": [
       "81516.05940594061"
      ]
     },
     "execution_count": 77,
     "metadata": {},
     "output_type": "execute_result"
    }
   ],
   "source": [
    "y_moy = np.mean(ozone['y'])\n",
    "I_t = np.sum((ozone['y'] - y_moy)**2)\n",
    "I_t"
   ]
  },
  {
   "cell_type": "code",
   "execution_count": 78,
   "metadata": {},
   "outputs": [
    {
     "data": {
      "text/plain": [
       "30827.639457679616"
      ]
     },
     "execution_count": 78,
     "metadata": {},
     "output_type": "execute_result"
    }
   ],
   "source": [
    "I_m = I_t - I_r\n",
    "I_m"
   ]
  },
  {
   "cell_type": "raw",
   "metadata": {},
   "source": [
    "Question : Select, according to these 3 criteria, the best variable (amongst the 10 predictive ones) to predict y.\n",
    "Hint : you can use a 'for' loop"
   ]
  },
  {
   "cell_type": "code",
   "execution_count": 79,
   "metadata": {},
   "outputs": [
    {
     "name": "stdout",
     "output_type": "stream",
     "text": [
      "x1 : 0.5159750701422355\n",
      "x2 : 0.6128945664852581\n",
      "x3 : 0.5973574009499361\n",
      "x4 : 0.37817872554611\n",
      "x5 : 0.39692178579182213\n",
      "x6 : 0.22569404027313866\n",
      "x7 : 0.2600824051363315\n",
      "x8 : 0.18621446723998814\n",
      "x9 : 0.1443666993650864\n",
      "x10 : 0.4697289163946735\n"
     ]
    }
   ],
   "source": [
    "import statsmodels.api as sm\n",
    "\n",
    "for x in ozone.columns[1:]:\n",
    "    X = ozone[x]\n",
    "    X = sm.add_constant(X) # add a constant column for the constant term of the model (for the parameter beta_0)\n",
    "    Y = ozone['y'] # Select the target variable and store it in Y\n",
    "    model = sm.OLS(Y, X).fit() # fit the model to predict Y using X\n",
    "    print(x+' : '+str(model.rsquared))\n",
    "\n"
   ]
  },
  {
   "cell_type": "code",
   "execution_count": 80,
   "metadata": {},
   "outputs": [
    {
     "data": {
      "text/plain": [
       "31555.309514750104"
      ]
     },
     "execution_count": 80,
     "metadata": {},
     "output_type": "execute_result"
    }
   ],
   "source": [
    "import statsmodels.api as sm\n",
    "X = ozone['x2'] # Select the column containing the predictive variable\n",
    "X = sm.add_constant(X) # add a constant column for the constant term of the model (for the parameter beta_0) x1\n",
    "Y = ozone['y'] # Select the target variable and store it in Y\n",
    "model = sm.OLS(Y, X).fit() # fit the model to predict Y using X\n",
    "I_r = np.sum((ozone['y'] - model.fittedvalues)**2)\n",
    "I_r\n"
   ]
  },
  {
   "cell_type": "code",
   "execution_count": null,
   "metadata": {},
   "outputs": [],
   "source": []
  },
  {
   "cell_type": "raw",
   "metadata": {},
   "source": [
    "Now we will see how this best model behaves when predicting new data, and compare with the first model that we have tried (using x1). For this, we will 'cheat' (but we'll do it in a more proper way a bit later) : you will find\n",
    "10 new individuals in the file 'ozone_n.txt'. For these 10 new individuals, we have the values of the 10 predictive variables and also the value of the target variable. In a real prediction setting, you will never have new individuals with the ground truth (values of the target variable), but here we will do like that to start. We can consider that these new individuals are our test set. In a latter exercice, I will show you how to do a proper train / test split."
   ]
  },
  {
   "cell_type": "code",
   "execution_count": 81,
   "metadata": {},
   "outputs": [
    {
     "data": {
      "text/html": [
       "<div>\n",
       "<style scoped>\n",
       "    .dataframe tbody tr th:only-of-type {\n",
       "        vertical-align: middle;\n",
       "    }\n",
       "\n",
       "    .dataframe tbody tr th {\n",
       "        vertical-align: top;\n",
       "    }\n",
       "\n",
       "    .dataframe thead th {\n",
       "        text-align: right;\n",
       "    }\n",
       "</style>\n",
       "<table border=\"1\" class=\"dataframe\">\n",
       "  <thead>\n",
       "    <tr style=\"text-align: right;\">\n",
       "      <th></th>\n",
       "      <th>y</th>\n",
       "      <th>x1</th>\n",
       "      <th>x2</th>\n",
       "      <th>x3</th>\n",
       "      <th>x4</th>\n",
       "      <th>x5</th>\n",
       "      <th>x6</th>\n",
       "      <th>x7</th>\n",
       "      <th>x8</th>\n",
       "      <th>x9</th>\n",
       "      <th>x10</th>\n",
       "    </tr>\n",
       "  </thead>\n",
       "  <tbody>\n",
       "    <tr>\n",
       "      <th>0</th>\n",
       "      <td>106</td>\n",
       "      <td>18.3</td>\n",
       "      <td>21.9</td>\n",
       "      <td>22.9</td>\n",
       "      <td>5</td>\n",
       "      <td>6</td>\n",
       "      <td>8</td>\n",
       "      <td>1.2856</td>\n",
       "      <td>-2.2981</td>\n",
       "      <td>-3.9392</td>\n",
       "      <td>101</td>\n",
       "    </tr>\n",
       "    <tr>\n",
       "      <th>1</th>\n",
       "      <td>60</td>\n",
       "      <td>13.7</td>\n",
       "      <td>14.0</td>\n",
       "      <td>15.8</td>\n",
       "      <td>4</td>\n",
       "      <td>5</td>\n",
       "      <td>4</td>\n",
       "      <td>0.0000</td>\n",
       "      <td>3.2139</td>\n",
       "      <td>0.0000</td>\n",
       "      <td>71</td>\n",
       "    </tr>\n",
       "    <tr>\n",
       "      <th>2</th>\n",
       "      <td>72</td>\n",
       "      <td>19.9</td>\n",
       "      <td>21.6</td>\n",
       "      <td>20.4</td>\n",
       "      <td>7</td>\n",
       "      <td>7</td>\n",
       "      <td>8</td>\n",
       "      <td>-3.0000</td>\n",
       "      <td>-4.5963</td>\n",
       "      <td>-5.1962</td>\n",
       "      <td>65</td>\n",
       "    </tr>\n",
       "    <tr>\n",
       "      <th>3</th>\n",
       "      <td>72</td>\n",
       "      <td>18.1</td>\n",
       "      <td>21.2</td>\n",
       "      <td>23.9</td>\n",
       "      <td>7</td>\n",
       "      <td>6</td>\n",
       "      <td>4</td>\n",
       "      <td>-2.5981</td>\n",
       "      <td>-3.9392</td>\n",
       "      <td>-3.7588</td>\n",
       "      <td>113</td>\n",
       "    </tr>\n",
       "    <tr>\n",
       "      <th>4</th>\n",
       "      <td>97</td>\n",
       "      <td>20.8</td>\n",
       "      <td>23.7</td>\n",
       "      <td>25.0</td>\n",
       "      <td>2</td>\n",
       "      <td>3</td>\n",
       "      <td>4</td>\n",
       "      <td>0.0000</td>\n",
       "      <td>1.7101</td>\n",
       "      <td>-2.7362</td>\n",
       "      <td>93</td>\n",
       "    </tr>\n",
       "    <tr>\n",
       "      <th>5</th>\n",
       "      <td>59</td>\n",
       "      <td>18.3</td>\n",
       "      <td>18.3</td>\n",
       "      <td>19.0</td>\n",
       "      <td>7</td>\n",
       "      <td>7</td>\n",
       "      <td>7</td>\n",
       "      <td>-3.9392</td>\n",
       "      <td>-1.9284</td>\n",
       "      <td>-1.7101</td>\n",
       "      <td>66</td>\n",
       "    </tr>\n",
       "    <tr>\n",
       "      <th>6</th>\n",
       "      <td>70</td>\n",
       "      <td>17.1</td>\n",
       "      <td>18.2</td>\n",
       "      <td>18.0</td>\n",
       "      <td>7</td>\n",
       "      <td>7</td>\n",
       "      <td>7</td>\n",
       "      <td>-4.3301</td>\n",
       "      <td>-7.8785</td>\n",
       "      <td>-5.1962</td>\n",
       "      <td>72</td>\n",
       "    </tr>\n",
       "    <tr>\n",
       "      <th>7</th>\n",
       "      <td>81</td>\n",
       "      <td>19.6</td>\n",
       "      <td>25.1</td>\n",
       "      <td>27.2</td>\n",
       "      <td>3</td>\n",
       "      <td>4</td>\n",
       "      <td>4</td>\n",
       "      <td>-1.9284</td>\n",
       "      <td>-2.5712</td>\n",
       "      <td>-4.3301</td>\n",
       "      <td>57</td>\n",
       "    </tr>\n",
       "    <tr>\n",
       "      <th>8</th>\n",
       "      <td>146</td>\n",
       "      <td>27.0</td>\n",
       "      <td>32.7</td>\n",
       "      <td>33.7</td>\n",
       "      <td>0</td>\n",
       "      <td>0</td>\n",
       "      <td>0</td>\n",
       "      <td>2.9544</td>\n",
       "      <td>6.5778</td>\n",
       "      <td>4.3301</td>\n",
       "      <td>121</td>\n",
       "    </tr>\n",
       "    <tr>\n",
       "      <th>9</th>\n",
       "      <td>78</td>\n",
       "      <td>17.7</td>\n",
       "      <td>20.2</td>\n",
       "      <td>21.5</td>\n",
       "      <td>5</td>\n",
       "      <td>5</td>\n",
       "      <td>3</td>\n",
       "      <td>0.0000</td>\n",
       "      <td>0.5209</td>\n",
       "      <td>0.0000</td>\n",
       "      <td>59</td>\n",
       "    </tr>\n",
       "  </tbody>\n",
       "</table>\n",
       "</div>"
      ],
      "text/plain": [
       "     y    x1    x2    x3  x4  x5  x6      x7      x8      x9  x10\n",
       "0  106  18.3  21.9  22.9   5   6   8  1.2856 -2.2981 -3.9392  101\n",
       "1   60  13.7  14.0  15.8   4   5   4  0.0000  3.2139  0.0000   71\n",
       "2   72  19.9  21.6  20.4   7   7   8 -3.0000 -4.5963 -5.1962   65\n",
       "3   72  18.1  21.2  23.9   7   6   4 -2.5981 -3.9392 -3.7588  113\n",
       "4   97  20.8  23.7  25.0   2   3   4  0.0000  1.7101 -2.7362   93\n",
       "5   59  18.3  18.3  19.0   7   7   7 -3.9392 -1.9284 -1.7101   66\n",
       "6   70  17.1  18.2  18.0   7   7   7 -4.3301 -7.8785 -5.1962   72\n",
       "7   81  19.6  25.1  27.2   3   4   4 -1.9284 -2.5712 -4.3301   57\n",
       "8  146  27.0  32.7  33.7   0   0   0  2.9544  6.5778  4.3301  121\n",
       "9   78  17.7  20.2  21.5   5   5   3  0.0000  0.5209  0.0000   59"
      ]
     },
     "execution_count": 81,
     "metadata": {},
     "output_type": "execute_result"
    }
   ],
   "source": [
    "# Let's load these new individuals.\n",
    "ozone_new = pd.read_csv('ozone_n.txt', sep = ' ')\n",
    "ozone_new"
   ]
  },
  {
   "cell_type": "code",
   "execution_count": 82,
   "metadata": {},
   "outputs": [
    {
     "data": {
      "text/plain": [
       "0     90.440598\n",
       "1     59.409146\n",
       "2    101.234147\n",
       "3     89.091404\n",
       "4    107.305518\n",
       "5     90.440598\n",
       "6     82.345437\n",
       "7     99.210356\n",
       "8    149.130518\n",
       "9     86.393017\n",
       "dtype: float64"
      ]
     },
     "execution_count": 82,
     "metadata": {},
     "output_type": "execute_result"
    }
   ],
   "source": [
    "# I show you here how to predict the values of new data using a model\n",
    "# First, we will fit a model to predict y using x1 with the ozone data as before (we don't use the new individuals to fit the model)\n",
    "X = ozone.iloc[:,1] \n",
    "X = sm.add_constant(X) \n",
    "Y = ozone['y']\n",
    "model = sm.OLS(Y, X).fit() \n",
    "# Then, we will prepare the new data so that it is under the same form as the data used to create the model,\n",
    "# i.e. one constant column and one column with x1 values for the new data\n",
    "X_new = ozone_new.iloc[:,1] # only the x1 column of the new dataset\n",
    "X_new = sm.add_constant(X_new) # add the constant column\n",
    "# and then we can easily predict y for this new dataset:\n",
    "model.predict(X_new)\n",
    "# You can see the predictions for the 10 individuals of ozone_new"
   ]
  },
  {
   "cell_type": "raw",
   "metadata": {},
   "source": [
    "Question : What is the mean squared error of these predictions ?"
   ]
  },
  {
   "cell_type": "code",
   "execution_count": 83,
   "metadata": {},
   "outputs": [
    {
     "data": {
      "text/plain": [
       "304.81801932071556"
      ]
     },
     "execution_count": 83,
     "metadata": {},
     "output_type": "execute_result"
    }
   ],
   "source": [
    "mean_error = np.mean((ozone_new['y'] - model.predict(X_new))**2)\n",
    "mean_error"
   ]
  },
  {
   "cell_type": "raw",
   "metadata": {},
   "source": [
    "Question : Do the same for the best model that you found above, and compare the mean squared errors of the 2 models."
   ]
  },
  {
   "cell_type": "code",
   "execution_count": 88,
   "metadata": {},
   "outputs": [
    {
     "data": {
      "text/plain": [
       "0     92.928088\n",
       "1     48.599551\n",
       "2     91.244726\n",
       "3     89.000243\n",
       "4    103.028261\n",
       "5     72.727742\n",
       "6     72.166622\n",
       "7    110.883951\n",
       "8    153.529126\n",
       "9     83.389036\n",
       "dtype: float64"
      ]
     },
     "execution_count": 88,
     "metadata": {},
     "output_type": "execute_result"
    }
   ],
   "source": [
    "# I show you here how to predict the values of new data using a model\n",
    "# First, we will fit a model to predict y using x1 with the ozone data as before (we don't use the new individuals to fit the model)\n",
    "X = ozone['x2'] \n",
    "X = sm.add_constant(X) \n",
    "Y = ozone['y']\n",
    "model = sm.OLS(Y, X).fit() \n",
    "# Then, we will prepare the new data so that it is under the same form as the data used to create the model,\n",
    "# i.e. one constant column and one column with x1 values for the new data\n",
    "X_new = ozone_new.iloc[:,2] # only the x1 column of the new dataset\n",
    "X_new = sm.add_constant(X_new) # add the constant column\n",
    "# and then we can easily predict y for this new dataset:\n",
    "model.predict(X_new)\n",
    "# You can see the predictions for the 10 individuals of ozone_new"
   ]
  },
  {
   "cell_type": "code",
   "execution_count": 89,
   "metadata": {},
   "outputs": [
    {
     "data": {
      "text/plain": [
       "216.84779280541434"
      ]
     },
     "execution_count": 89,
     "metadata": {},
     "output_type": "execute_result"
    }
   ],
   "source": [
    "mean_error = np.mean((ozone_new['y'] - model.predict(X_new))**2)\n",
    "mean_error"
   ]
  },
  {
   "cell_type": "markdown",
   "metadata": {},
   "source": [
    "## Exercise 2: Multiple regression to predict y"
   ]
  },
  {
   "cell_type": "raw",
   "metadata": {},
   "source": [
    "We will now apply multiple regression (more than one predictive variable) to predict y. To perform multiple regression, we can use the OLS function as before but we just need to put more variables in the X dataframe used as input to OLS.\n",
    "For instance, below we will create a model to predict y using x2 and x1"
   ]
  },
  {
   "cell_type": "code",
   "execution_count": 90,
   "metadata": {},
   "outputs": [
    {
     "data": {
      "text/html": [
       "<table class=\"simpletable\">\n",
       "<caption>OLS Regression Results</caption>\n",
       "<tr>\n",
       "  <th>Dep. Variable:</th>            <td>y</td>        <th>  R-squared:         </th> <td>   0.615</td>\n",
       "</tr>\n",
       "<tr>\n",
       "  <th>Model:</th>                   <td>OLS</td>       <th>  Adj. R-squared:    </th> <td>   0.608</td>\n",
       "</tr>\n",
       "<tr>\n",
       "  <th>Method:</th>             <td>Least Squares</td>  <th>  F-statistic:       </th> <td>   78.41</td>\n",
       "</tr>\n",
       "<tr>\n",
       "  <th>Date:</th>             <td>Mon, 12 Apr 2021</td> <th>  Prob (F-statistic):</th> <td>4.62e-21</td>\n",
       "</tr>\n",
       "<tr>\n",
       "  <th>Time:</th>                 <td>18:00:23</td>     <th>  Log-Likelihood:    </th> <td> -433.07</td>\n",
       "</tr>\n",
       "<tr>\n",
       "  <th>No. Observations:</th>      <td>   101</td>      <th>  AIC:               </th> <td>   872.1</td>\n",
       "</tr>\n",
       "<tr>\n",
       "  <th>Df Residuals:</th>          <td>    98</td>      <th>  BIC:               </th> <td>   880.0</td>\n",
       "</tr>\n",
       "<tr>\n",
       "  <th>Df Model:</th>              <td>     2</td>      <th>                     </th>     <td> </td>   \n",
       "</tr>\n",
       "<tr>\n",
       "  <th>Covariance Type:</th>      <td>nonrobust</td>    <th>                     </th>     <td> </td>   \n",
       "</tr>\n",
       "</table>\n",
       "<table class=\"simpletable\">\n",
       "<tr>\n",
       "    <td></td>       <th>coef</th>     <th>std err</th>      <th>t</th>      <th>P>|t|</th>  <th>[0.025</th>    <th>0.975]</th>  \n",
       "</tr>\n",
       "<tr>\n",
       "  <th>const</th> <td>  -33.8288</td> <td>   10.950</td> <td>   -3.089</td> <td> 0.003</td> <td>  -55.558</td> <td>  -12.100</td>\n",
       "</tr>\n",
       "<tr>\n",
       "  <th>x1</th>    <td>    1.0269</td> <td>    1.279</td> <td>    0.803</td> <td> 0.424</td> <td>   -1.512</td> <td>    3.566</td>\n",
       "</tr>\n",
       "<tr>\n",
       "  <th>x2</th>    <td>    4.9153</td> <td>    0.976</td> <td>    5.034</td> <td> 0.000</td> <td>    2.978</td> <td>    6.853</td>\n",
       "</tr>\n",
       "</table>\n",
       "<table class=\"simpletable\">\n",
       "<tr>\n",
       "  <th>Omnibus:</th>       <td> 0.676</td> <th>  Durbin-Watson:     </th> <td>   0.980</td>\n",
       "</tr>\n",
       "<tr>\n",
       "  <th>Prob(Omnibus):</th> <td> 0.713</td> <th>  Jarque-Bera (JB):  </th> <td>   0.806</td>\n",
       "</tr>\n",
       "<tr>\n",
       "  <th>Skew:</th>          <td> 0.163</td> <th>  Prob(JB):          </th> <td>   0.668</td>\n",
       "</tr>\n",
       "<tr>\n",
       "  <th>Kurtosis:</th>      <td> 2.708</td> <th>  Cond. No.          </th> <td>    177.</td>\n",
       "</tr>\n",
       "</table><br/><br/>Notes:<br/>[1] Standard Errors assume that the covariance matrix of the errors is correctly specified."
      ],
      "text/plain": [
       "<class 'statsmodels.iolib.summary.Summary'>\n",
       "\"\"\"\n",
       "                            OLS Regression Results                            \n",
       "==============================================================================\n",
       "Dep. Variable:                      y   R-squared:                       0.615\n",
       "Model:                            OLS   Adj. R-squared:                  0.608\n",
       "Method:                 Least Squares   F-statistic:                     78.41\n",
       "Date:                Mon, 12 Apr 2021   Prob (F-statistic):           4.62e-21\n",
       "Time:                        18:00:23   Log-Likelihood:                -433.07\n",
       "No. Observations:                 101   AIC:                             872.1\n",
       "Df Residuals:                      98   BIC:                             880.0\n",
       "Df Model:                           2                                         \n",
       "Covariance Type:            nonrobust                                         \n",
       "==============================================================================\n",
       "                 coef    std err          t      P>|t|      [0.025      0.975]\n",
       "------------------------------------------------------------------------------\n",
       "const        -33.8288     10.950     -3.089      0.003     -55.558     -12.100\n",
       "x1             1.0269      1.279      0.803      0.424      -1.512       3.566\n",
       "x2             4.9153      0.976      5.034      0.000       2.978       6.853\n",
       "==============================================================================\n",
       "Omnibus:                        0.676   Durbin-Watson:                   0.980\n",
       "Prob(Omnibus):                  0.713   Jarque-Bera (JB):                0.806\n",
       "Skew:                           0.163   Prob(JB):                        0.668\n",
       "Kurtosis:                       2.708   Cond. No.                         177.\n",
       "==============================================================================\n",
       "\n",
       "Notes:\n",
       "[1] Standard Errors assume that the covariance matrix of the errors is correctly specified.\n",
       "\"\"\""
      ]
     },
     "execution_count": 90,
     "metadata": {},
     "output_type": "execute_result"
    }
   ],
   "source": [
    "X = ozone.iloc[:,[1,2]] # select columns of index 1 and 2 (i.e. x1 and x2)\n",
    "X = sm.add_constant(X)\n",
    "Y = ozone['y']\n",
    "model = sm.OLS(Y,X).fit()\n",
    "model.summary()"
   ]
  },
  {
   "cell_type": "raw",
   "metadata": {},
   "source": [
    "Questions : \n",
    "    - What is the equation of the model ?\n",
    "    - What is the result of the Student's test on x1 ? What does it mean ?\n",
    "    - What is the R^2 of this model ? Compare it with the model where x2 is alone to predict y. Conclusion\n",
    "    - What is I_r for this model ? Compare it with the model where x2 is alone to predict y. Conclusion"
   ]
  },
  {
   "cell_type": "raw",
   "metadata": {},
   "source": [
    "y= -33.8288 + 1.0269*x1 +4.9153*x2"
   ]
  },
  {
   "cell_type": "raw",
   "metadata": {},
   "source": [
    "x1, ne sert pas en présence des autres variables car P>|t| >> 0.05"
   ]
  },
  {
   "cell_type": "code",
   "execution_count": 91,
   "metadata": {},
   "outputs": [
    {
     "data": {
      "text/plain": [
       "0.6154227247464323"
      ]
     },
     "execution_count": 91,
     "metadata": {},
     "output_type": "execute_result"
    }
   ],
   "source": [
    "model.rsquared"
   ]
  },
  {
   "cell_type": "raw",
   "metadata": {},
   "source": [
    "0.6128945664852581 seul\n",
    "0.6154227247464323 avec x1\n",
    "donc x1 aide a apporter un tout petit peu plus dinformations"
   ]
  },
  {
   "cell_type": "code",
   "execution_count": 93,
   "metadata": {},
   "outputs": [
    {
     "data": {
      "text/plain": [
       "31349.224015744603"
      ]
     },
     "execution_count": 93,
     "metadata": {},
     "output_type": "execute_result"
    }
   ],
   "source": [
    "I_r = np.sum((ozone['y'] - model.fittedvalues)**2)\n",
    "I_r"
   ]
  },
  {
   "cell_type": "raw",
   "metadata": {},
   "source": [
    "#235.5648942306331 X2 alone  #on a pas calculé lerreur quadratique moyenne sur le x2 seul\n",
    "310.3883565915307 with x1, donc lerreur a diminué"
   ]
  },
  {
   "cell_type": "raw",
   "metadata": {},
   "source": [
    "Question : Use this model to predict the 10 new individuals (of the ozone_new dataset) and compute the mean square prediction error. Conclusion ?"
   ]
  },
  {
   "cell_type": "code",
   "execution_count": 94,
   "metadata": {},
   "outputs": [
    {
     "data": {
      "text/plain": [
       "0     92.607713\n",
       "1     49.053373\n",
       "2     92.776136\n",
       "3     88.961642\n",
       "4    104.022411\n",
       "5     74.912713\n",
       "6     73.188930\n",
       "7    109.671545\n",
       "8    154.626563\n",
       "9     83.635613\n",
       "dtype: float64"
      ]
     },
     "execution_count": 94,
     "metadata": {},
     "output_type": "execute_result"
    }
   ],
   "source": [
    "# Then, we will prepare the new data so that it is under the same form as the data used to create the model,\n",
    "# i.e. one constant column and one column with x1 values for the new data\n",
    "X_new = ozone_new.iloc[:,[1,2]] # only the x1 column of the new dataset\n",
    "X_new = sm.add_constant(X_new) # add the constant column\n",
    "X_new\n",
    "# and then we can easily predict y for this new dataset:\n",
    "model.predict(X_new)\n",
    "# You can see the predictions for the 10 individuals of ozone_new"
   ]
  },
  {
   "cell_type": "code",
   "execution_count": 95,
   "metadata": {},
   "outputs": [
    {
     "data": {
      "text/plain": [
       "225.94603156757847"
      ]
     },
     "execution_count": 95,
     "metadata": {},
     "output_type": "execute_result"
    }
   ],
   "source": [
    "mean_error = np.mean((ozone_new['y'] - model.predict(X_new))**2)\n",
    "mean_error"
   ]
  },
  {
   "cell_type": "raw",
   "metadata": {},
   "source": [
    "You should conclude that the model with x1 and x2 is worse than x2 alone (to predict these new individuals), but the R^2 and I_r said that x1 and x2 is better than x2 alone.\n",
    "This is the problem I explained in the CM : R^2 and I_r are always in favor of models with more variables (even if you add variables completely independant of the target variable) and they do not ensure that a model will be good to predict new indiviuals.\n",
    "That's why a better criterion is the estimation of the generalization error. \n",
    "In the next exercice, we will apply the train / test split strategy to estimate this generalization error."
   ]
  },
  {
   "cell_type": "markdown",
   "metadata": {},
   "source": [
    "## Exercise 3 : Estimation of the generalization error by train / test split."
   ]
  },
  {
   "cell_type": "raw",
   "metadata": {},
   "source": [
    "Before going with the train/test split, I advice you to create two functions that might help you with easily creating regression models and computing predictions.\n",
    "1) Define a function 'my_regression(data, idx_p, idx_t)'. The aim of this function is to create, using a dataset 'data', a regression model to predict the variable whose column index is 'idx_t' (index target) using the variables whose column indexes are in 'idx_p' (index predictive). \n",
    "For instance, the call my_regression(ozone, [2], 0)' should create the model to predict y (column 0 of ozone) using x2 (column 2 of ozone).\n",
    "And the call my_regression(ozone, [1,2], 0) should create the model to predict y (column 0 of ozone) using x1 and x2 (columns 1 and 2 of ozone).\n",
    "You have already done this kind of things you just have to wrap everything up in a function. The idea of this function is to have a simple ang generic way to create different models, without having to create the X, add a constant, create the Y and call the OLS each time you need to fit a model."
   ]
  },
  {
   "cell_type": "code",
   "execution_count": 29,
   "metadata": {},
   "outputs": [],
   "source": [
    "def my_regression(data, idx_p, idx_t):\n",
    "    X = data.iloc[:,idx_p] \n",
    "    X = sm.add_constant(X) \n",
    "    Y = data.iloc[:,idx_t]\n",
    "    mod = sm.OLS(Y, X).fit()\n",
    "    return(mod)"
   ]
  },
  {
   "cell_type": "code",
   "execution_count": 30,
   "metadata": {},
   "outputs": [
    {
     "data": {
      "text/html": [
       "<table class=\"simpletable\">\n",
       "<caption>OLS Regression Results</caption>\n",
       "<tr>\n",
       "  <th>Dep. Variable:</th>            <td>y</td>        <th>  R-squared:         </th> <td>   0.615</td>\n",
       "</tr>\n",
       "<tr>\n",
       "  <th>Model:</th>                   <td>OLS</td>       <th>  Adj. R-squared:    </th> <td>   0.608</td>\n",
       "</tr>\n",
       "<tr>\n",
       "  <th>Method:</th>             <td>Least Squares</td>  <th>  F-statistic:       </th> <td>   78.41</td>\n",
       "</tr>\n",
       "<tr>\n",
       "  <th>Date:</th>             <td>Mon, 12 Apr 2021</td> <th>  Prob (F-statistic):</th> <td>4.62e-21</td>\n",
       "</tr>\n",
       "<tr>\n",
       "  <th>Time:</th>                 <td>17:38:24</td>     <th>  Log-Likelihood:    </th> <td> -433.07</td>\n",
       "</tr>\n",
       "<tr>\n",
       "  <th>No. Observations:</th>      <td>   101</td>      <th>  AIC:               </th> <td>   872.1</td>\n",
       "</tr>\n",
       "<tr>\n",
       "  <th>Df Residuals:</th>          <td>    98</td>      <th>  BIC:               </th> <td>   880.0</td>\n",
       "</tr>\n",
       "<tr>\n",
       "  <th>Df Model:</th>              <td>     2</td>      <th>                     </th>     <td> </td>   \n",
       "</tr>\n",
       "<tr>\n",
       "  <th>Covariance Type:</th>      <td>nonrobust</td>    <th>                     </th>     <td> </td>   \n",
       "</tr>\n",
       "</table>\n",
       "<table class=\"simpletable\">\n",
       "<tr>\n",
       "    <td></td>       <th>coef</th>     <th>std err</th>      <th>t</th>      <th>P>|t|</th>  <th>[0.025</th>    <th>0.975]</th>  \n",
       "</tr>\n",
       "<tr>\n",
       "  <th>const</th> <td>  -33.8288</td> <td>   10.950</td> <td>   -3.089</td> <td> 0.003</td> <td>  -55.558</td> <td>  -12.100</td>\n",
       "</tr>\n",
       "<tr>\n",
       "  <th>x1</th>    <td>    1.0269</td> <td>    1.279</td> <td>    0.803</td> <td> 0.424</td> <td>   -1.512</td> <td>    3.566</td>\n",
       "</tr>\n",
       "<tr>\n",
       "  <th>x2</th>    <td>    4.9153</td> <td>    0.976</td> <td>    5.034</td> <td> 0.000</td> <td>    2.978</td> <td>    6.853</td>\n",
       "</tr>\n",
       "</table>\n",
       "<table class=\"simpletable\">\n",
       "<tr>\n",
       "  <th>Omnibus:</th>       <td> 0.676</td> <th>  Durbin-Watson:     </th> <td>   0.980</td>\n",
       "</tr>\n",
       "<tr>\n",
       "  <th>Prob(Omnibus):</th> <td> 0.713</td> <th>  Jarque-Bera (JB):  </th> <td>   0.806</td>\n",
       "</tr>\n",
       "<tr>\n",
       "  <th>Skew:</th>          <td> 0.163</td> <th>  Prob(JB):          </th> <td>   0.668</td>\n",
       "</tr>\n",
       "<tr>\n",
       "  <th>Kurtosis:</th>      <td> 2.708</td> <th>  Cond. No.          </th> <td>    177.</td>\n",
       "</tr>\n",
       "</table><br/><br/>Notes:<br/>[1] Standard Errors assume that the covariance matrix of the errors is correctly specified."
      ],
      "text/plain": [
       "<class 'statsmodels.iolib.summary.Summary'>\n",
       "\"\"\"\n",
       "                            OLS Regression Results                            \n",
       "==============================================================================\n",
       "Dep. Variable:                      y   R-squared:                       0.615\n",
       "Model:                            OLS   Adj. R-squared:                  0.608\n",
       "Method:                 Least Squares   F-statistic:                     78.41\n",
       "Date:                Mon, 12 Apr 2021   Prob (F-statistic):           4.62e-21\n",
       "Time:                        17:38:24   Log-Likelihood:                -433.07\n",
       "No. Observations:                 101   AIC:                             872.1\n",
       "Df Residuals:                      98   BIC:                             880.0\n",
       "Df Model:                           2                                         \n",
       "Covariance Type:            nonrobust                                         \n",
       "==============================================================================\n",
       "                 coef    std err          t      P>|t|      [0.025      0.975]\n",
       "------------------------------------------------------------------------------\n",
       "const        -33.8288     10.950     -3.089      0.003     -55.558     -12.100\n",
       "x1             1.0269      1.279      0.803      0.424      -1.512       3.566\n",
       "x2             4.9153      0.976      5.034      0.000       2.978       6.853\n",
       "==============================================================================\n",
       "Omnibus:                        0.676   Durbin-Watson:                   0.980\n",
       "Prob(Omnibus):                  0.713   Jarque-Bera (JB):                0.806\n",
       "Skew:                           0.163   Prob(JB):                        0.668\n",
       "Kurtosis:                       2.708   Cond. No.                         177.\n",
       "==============================================================================\n",
       "\n",
       "Notes:\n",
       "[1] Standard Errors assume that the covariance matrix of the errors is correctly specified.\n",
       "\"\"\""
      ]
     },
     "execution_count": 30,
     "metadata": {},
     "output_type": "execute_result"
    }
   ],
   "source": [
    "model = my_regression(ozone, [1,2], 0)\n",
    "model.summary()"
   ]
  },
  {
   "cell_type": "raw",
   "metadata": {},
   "source": [
    "2) Create a function 'my_prediction(my_model, data)' that returns the predictions made by the model 'my_model'\n",
    "for the individuals of the dataset 'data'. \n",
    "Be careful, you need to select the columns of the dataset 'data' that the model 'my_model' needs (i.e. the ones that were used to create the model).\n",
    "For that, you can find the names of the predictive variables of 'my_model' by the command my_model.model.exog_names, and then you have to select the columns having these names (by a .loc on data)\n",
    "Don't forget to add a constant to the data before the predictions (as in the exemple a few cells above)"
   ]
  },
  {
   "cell_type": "code",
   "execution_count": 31,
   "metadata": {},
   "outputs": [
    {
     "data": {
      "text/plain": [
       "['x1', 'x2']"
      ]
     },
     "execution_count": 31,
     "metadata": {},
     "output_type": "execute_result"
    }
   ],
   "source": [
    "co = model.model.exog_names\n",
    "co[1:]"
   ]
  },
  {
   "cell_type": "code",
   "execution_count": 32,
   "metadata": {},
   "outputs": [
    {
     "data": {
      "text/html": [
       "<div>\n",
       "<style scoped>\n",
       "    .dataframe tbody tr th:only-of-type {\n",
       "        vertical-align: middle;\n",
       "    }\n",
       "\n",
       "    .dataframe tbody tr th {\n",
       "        vertical-align: top;\n",
       "    }\n",
       "\n",
       "    .dataframe thead th {\n",
       "        text-align: right;\n",
       "    }\n",
       "</style>\n",
       "<table border=\"1\" class=\"dataframe\">\n",
       "  <thead>\n",
       "    <tr style=\"text-align: right;\">\n",
       "      <th></th>\n",
       "      <th>x1</th>\n",
       "      <th>x2</th>\n",
       "    </tr>\n",
       "  </thead>\n",
       "  <tbody>\n",
       "    <tr>\n",
       "      <th>0</th>\n",
       "      <td>18.3</td>\n",
       "      <td>21.9</td>\n",
       "    </tr>\n",
       "    <tr>\n",
       "      <th>1</th>\n",
       "      <td>13.7</td>\n",
       "      <td>14.0</td>\n",
       "    </tr>\n",
       "    <tr>\n",
       "      <th>2</th>\n",
       "      <td>19.9</td>\n",
       "      <td>21.6</td>\n",
       "    </tr>\n",
       "    <tr>\n",
       "      <th>3</th>\n",
       "      <td>18.1</td>\n",
       "      <td>21.2</td>\n",
       "    </tr>\n",
       "    <tr>\n",
       "      <th>4</th>\n",
       "      <td>20.8</td>\n",
       "      <td>23.7</td>\n",
       "    </tr>\n",
       "    <tr>\n",
       "      <th>5</th>\n",
       "      <td>18.3</td>\n",
       "      <td>18.3</td>\n",
       "    </tr>\n",
       "    <tr>\n",
       "      <th>6</th>\n",
       "      <td>17.1</td>\n",
       "      <td>18.2</td>\n",
       "    </tr>\n",
       "    <tr>\n",
       "      <th>7</th>\n",
       "      <td>19.6</td>\n",
       "      <td>25.1</td>\n",
       "    </tr>\n",
       "    <tr>\n",
       "      <th>8</th>\n",
       "      <td>27.0</td>\n",
       "      <td>32.7</td>\n",
       "    </tr>\n",
       "    <tr>\n",
       "      <th>9</th>\n",
       "      <td>17.7</td>\n",
       "      <td>20.2</td>\n",
       "    </tr>\n",
       "  </tbody>\n",
       "</table>\n",
       "</div>"
      ],
      "text/plain": [
       "     x1    x2\n",
       "0  18.3  21.9\n",
       "1  13.7  14.0\n",
       "2  19.9  21.6\n",
       "3  18.1  21.2\n",
       "4  20.8  23.7\n",
       "5  18.3  18.3\n",
       "6  17.1  18.2\n",
       "7  19.6  25.1\n",
       "8  27.0  32.7\n",
       "9  17.7  20.2"
      ]
     },
     "execution_count": 32,
     "metadata": {},
     "output_type": "execute_result"
    }
   ],
   "source": [
    "fetch = ozone_new[co[1:]]\n",
    "fetch"
   ]
  },
  {
   "cell_type": "code",
   "execution_count": 33,
   "metadata": {},
   "outputs": [],
   "source": [
    "def my_prediction(my_model,data):\n",
    "    \n",
    "    columns =  my_model.model.exog_names\n",
    "\n",
    "    X_new = data[columns[1:]] # all x column of the new dataset\n",
    "    X_new = sm.add_constant(X_new) # add the constant column\n",
    "    X_new\n",
    "    # and then we can easily predict y for this new dataset:\n",
    "    # You can see the predictions for the 10 individuals of ozone_new\n",
    "    predictions = my_model.predict(X_new)\n",
    "    return(predictions)"
   ]
  },
  {
   "cell_type": "raw",
   "metadata": {},
   "source": [
    "3) Try to use your functions to create a regression model using ozone (with predictive variables of your choice) and then use this model to predict the individuals of ozone_new"
   ]
  },
  {
   "cell_type": "code",
   "execution_count": 34,
   "metadata": {},
   "outputs": [
    {
     "data": {
      "text/plain": [
       "0     92.480354\n",
       "1     58.705224\n",
       "2     85.862897\n",
       "3     84.020220\n",
       "4    108.625571\n",
       "5     70.660818\n",
       "6     70.200149\n",
       "7    112.457213\n",
       "8    155.321235\n",
       "9     84.648980\n",
       "dtype: float64"
      ]
     },
     "execution_count": 34,
     "metadata": {},
     "output_type": "execute_result"
    }
   ],
   "source": [
    "model =my_regression(ozone,[2,4],0)\n",
    "predictions = my_prediction(model,ozone_new)\n",
    "predictions"
   ]
  },
  {
   "cell_type": "raw",
   "metadata": {},
   "source": [
    "4) Now we will see how to do a train / test split to estimate the generalization error of a regression model.\n",
    "First we will combine our two datasets (ozone and ozone_new in a single one). In a real prediction setting, you'll get one complete dataset (with predictive variables and a target one)."
   ]
  },
  {
   "cell_type": "code",
   "execution_count": 35,
   "metadata": {},
   "outputs": [
    {
     "data": {
      "text/html": [
       "<div>\n",
       "<style scoped>\n",
       "    .dataframe tbody tr th:only-of-type {\n",
       "        vertical-align: middle;\n",
       "    }\n",
       "\n",
       "    .dataframe tbody tr th {\n",
       "        vertical-align: top;\n",
       "    }\n",
       "\n",
       "    .dataframe thead th {\n",
       "        text-align: right;\n",
       "    }\n",
       "</style>\n",
       "<table border=\"1\" class=\"dataframe\">\n",
       "  <thead>\n",
       "    <tr style=\"text-align: right;\">\n",
       "      <th></th>\n",
       "      <th>y</th>\n",
       "      <th>x1</th>\n",
       "      <th>x2</th>\n",
       "      <th>x3</th>\n",
       "      <th>x4</th>\n",
       "      <th>x5</th>\n",
       "      <th>x6</th>\n",
       "      <th>x7</th>\n",
       "      <th>x8</th>\n",
       "      <th>x9</th>\n",
       "      <th>x10</th>\n",
       "    </tr>\n",
       "  </thead>\n",
       "  <tbody>\n",
       "    <tr>\n",
       "      <th>0</th>\n",
       "      <td>87</td>\n",
       "      <td>15.6</td>\n",
       "      <td>18.5</td>\n",
       "      <td>18.4</td>\n",
       "      <td>4</td>\n",
       "      <td>4</td>\n",
       "      <td>8</td>\n",
       "      <td>0.6946</td>\n",
       "      <td>-1.7101</td>\n",
       "      <td>-0.6946</td>\n",
       "      <td>84</td>\n",
       "    </tr>\n",
       "    <tr>\n",
       "      <th>1</th>\n",
       "      <td>82</td>\n",
       "      <td>17.0</td>\n",
       "      <td>18.4</td>\n",
       "      <td>17.7</td>\n",
       "      <td>5</td>\n",
       "      <td>5</td>\n",
       "      <td>7</td>\n",
       "      <td>-4.3301</td>\n",
       "      <td>-4.0000</td>\n",
       "      <td>-3.0000</td>\n",
       "      <td>87</td>\n",
       "    </tr>\n",
       "    <tr>\n",
       "      <th>2</th>\n",
       "      <td>92</td>\n",
       "      <td>15.3</td>\n",
       "      <td>17.6</td>\n",
       "      <td>19.5</td>\n",
       "      <td>2</td>\n",
       "      <td>5</td>\n",
       "      <td>4</td>\n",
       "      <td>2.9544</td>\n",
       "      <td>1.8794</td>\n",
       "      <td>0.5209</td>\n",
       "      <td>82</td>\n",
       "    </tr>\n",
       "    <tr>\n",
       "      <th>3</th>\n",
       "      <td>114</td>\n",
       "      <td>16.2</td>\n",
       "      <td>19.7</td>\n",
       "      <td>22.5</td>\n",
       "      <td>1</td>\n",
       "      <td>1</td>\n",
       "      <td>0</td>\n",
       "      <td>0.9848</td>\n",
       "      <td>0.3473</td>\n",
       "      <td>-0.1736</td>\n",
       "      <td>92</td>\n",
       "    </tr>\n",
       "    <tr>\n",
       "      <th>4</th>\n",
       "      <td>94</td>\n",
       "      <td>17.4</td>\n",
       "      <td>20.5</td>\n",
       "      <td>20.4</td>\n",
       "      <td>8</td>\n",
       "      <td>8</td>\n",
       "      <td>7</td>\n",
       "      <td>-0.5000</td>\n",
       "      <td>-2.9544</td>\n",
       "      <td>-4.3301</td>\n",
       "      <td>114</td>\n",
       "    </tr>\n",
       "    <tr>\n",
       "      <th>...</th>\n",
       "      <td>...</td>\n",
       "      <td>...</td>\n",
       "      <td>...</td>\n",
       "      <td>...</td>\n",
       "      <td>...</td>\n",
       "      <td>...</td>\n",
       "      <td>...</td>\n",
       "      <td>...</td>\n",
       "      <td>...</td>\n",
       "      <td>...</td>\n",
       "      <td>...</td>\n",
       "    </tr>\n",
       "    <tr>\n",
       "      <th>106</th>\n",
       "      <td>59</td>\n",
       "      <td>18.3</td>\n",
       "      <td>18.3</td>\n",
       "      <td>19.0</td>\n",
       "      <td>7</td>\n",
       "      <td>7</td>\n",
       "      <td>7</td>\n",
       "      <td>-3.9392</td>\n",
       "      <td>-1.9284</td>\n",
       "      <td>-1.7101</td>\n",
       "      <td>66</td>\n",
       "    </tr>\n",
       "    <tr>\n",
       "      <th>107</th>\n",
       "      <td>70</td>\n",
       "      <td>17.1</td>\n",
       "      <td>18.2</td>\n",
       "      <td>18.0</td>\n",
       "      <td>7</td>\n",
       "      <td>7</td>\n",
       "      <td>7</td>\n",
       "      <td>-4.3301</td>\n",
       "      <td>-7.8785</td>\n",
       "      <td>-5.1962</td>\n",
       "      <td>72</td>\n",
       "    </tr>\n",
       "    <tr>\n",
       "      <th>108</th>\n",
       "      <td>81</td>\n",
       "      <td>19.6</td>\n",
       "      <td>25.1</td>\n",
       "      <td>27.2</td>\n",
       "      <td>3</td>\n",
       "      <td>4</td>\n",
       "      <td>4</td>\n",
       "      <td>-1.9284</td>\n",
       "      <td>-2.5712</td>\n",
       "      <td>-4.3301</td>\n",
       "      <td>57</td>\n",
       "    </tr>\n",
       "    <tr>\n",
       "      <th>109</th>\n",
       "      <td>146</td>\n",
       "      <td>27.0</td>\n",
       "      <td>32.7</td>\n",
       "      <td>33.7</td>\n",
       "      <td>0</td>\n",
       "      <td>0</td>\n",
       "      <td>0</td>\n",
       "      <td>2.9544</td>\n",
       "      <td>6.5778</td>\n",
       "      <td>4.3301</td>\n",
       "      <td>121</td>\n",
       "    </tr>\n",
       "    <tr>\n",
       "      <th>110</th>\n",
       "      <td>78</td>\n",
       "      <td>17.7</td>\n",
       "      <td>20.2</td>\n",
       "      <td>21.5</td>\n",
       "      <td>5</td>\n",
       "      <td>5</td>\n",
       "      <td>3</td>\n",
       "      <td>0.0000</td>\n",
       "      <td>0.5209</td>\n",
       "      <td>0.0000</td>\n",
       "      <td>59</td>\n",
       "    </tr>\n",
       "  </tbody>\n",
       "</table>\n",
       "<p>111 rows × 11 columns</p>\n",
       "</div>"
      ],
      "text/plain": [
       "       y    x1    x2    x3  x4  x5  x6      x7      x8      x9  x10\n",
       "0     87  15.6  18.5  18.4   4   4   8  0.6946 -1.7101 -0.6946   84\n",
       "1     82  17.0  18.4  17.7   5   5   7 -4.3301 -4.0000 -3.0000   87\n",
       "2     92  15.3  17.6  19.5   2   5   4  2.9544  1.8794  0.5209   82\n",
       "3    114  16.2  19.7  22.5   1   1   0  0.9848  0.3473 -0.1736   92\n",
       "4     94  17.4  20.5  20.4   8   8   7 -0.5000 -2.9544 -4.3301  114\n",
       "..   ...   ...   ...   ...  ..  ..  ..     ...     ...     ...  ...\n",
       "106   59  18.3  18.3  19.0   7   7   7 -3.9392 -1.9284 -1.7101   66\n",
       "107   70  17.1  18.2  18.0   7   7   7 -4.3301 -7.8785 -5.1962   72\n",
       "108   81  19.6  25.1  27.2   3   4   4 -1.9284 -2.5712 -4.3301   57\n",
       "109  146  27.0  32.7  33.7   0   0   0  2.9544  6.5778  4.3301  121\n",
       "110   78  17.7  20.2  21.5   5   5   3  0.0000  0.5209  0.0000   59\n",
       "\n",
       "[111 rows x 11 columns]"
      ]
     },
     "execution_count": 35,
     "metadata": {},
     "output_type": "execute_result"
    }
   ],
   "source": [
    "ozoneAll = pd.concat([ozone,ozone_new], ignore_index=True)\n",
    "ozoneAll"
   ]
  },
  {
   "cell_type": "raw",
   "metadata": {},
   "source": [
    "We now need to split ozone into two datasets : train and test with about 75% of ozone into train and 25% into test (randomly). There is a function that can do this automatically in the package sklearn : "
   ]
  },
  {
   "cell_type": "code",
   "execution_count": 36,
   "metadata": {},
   "outputs": [],
   "source": [
    "from sklearn.model_selection import train_test_split\n",
    "train , test = train_test_split(ozoneAll, test_size = 0.25) \n",
    "# just need to give the input dataset (ozone here) and the fraction that you want in the test set (25% here)\n",
    "# the two created datasets are called train and test as we have asked"
   ]
  },
  {
   "cell_type": "raw",
   "metadata": {},
   "source": [
    "Check that the dimensions of train and test are as expected"
   ]
  },
  {
   "cell_type": "code",
   "execution_count": 37,
   "metadata": {},
   "outputs": [
    {
     "data": {
      "text/plain": [
       "(83, 11)"
      ]
     },
     "execution_count": 37,
     "metadata": {},
     "output_type": "execute_result"
    }
   ],
   "source": [
    "train.shape"
   ]
  },
  {
   "cell_type": "code",
   "execution_count": 38,
   "metadata": {},
   "outputs": [
    {
     "data": {
      "text/plain": [
       "(28, 11)"
      ]
     },
     "execution_count": 38,
     "metadata": {},
     "output_type": "execute_result"
    }
   ],
   "source": [
    "test.shape"
   ]
  },
  {
   "cell_type": "raw",
   "metadata": {},
   "source": [
    "To be able to compare the results that you will obtain with the ones that I have obtained, we need to have the \n",
    "same train / test split. For this, you can set a parameter 'random_state = 20' in the train_test_split function (I have also used random_state = 20)"
   ]
  },
  {
   "cell_type": "code",
   "execution_count": 39,
   "metadata": {},
   "outputs": [],
   "source": [
    "train , test = train_test_split(ozoneAll, test_size = 0.25, random_state = 20) \n",
    "# now we will use these train and test sets until the end of this TP (unless specified)"
   ]
  },
  {
   "cell_type": "code",
   "execution_count": 40,
   "metadata": {},
   "outputs": [
    {
     "data": {
      "text/html": [
       "<div>\n",
       "<style scoped>\n",
       "    .dataframe tbody tr th:only-of-type {\n",
       "        vertical-align: middle;\n",
       "    }\n",
       "\n",
       "    .dataframe tbody tr th {\n",
       "        vertical-align: top;\n",
       "    }\n",
       "\n",
       "    .dataframe thead th {\n",
       "        text-align: right;\n",
       "    }\n",
       "</style>\n",
       "<table border=\"1\" class=\"dataframe\">\n",
       "  <thead>\n",
       "    <tr style=\"text-align: right;\">\n",
       "      <th></th>\n",
       "      <th>y</th>\n",
       "      <th>x1</th>\n",
       "      <th>x2</th>\n",
       "      <th>x3</th>\n",
       "      <th>x4</th>\n",
       "      <th>x5</th>\n",
       "      <th>x6</th>\n",
       "      <th>x7</th>\n",
       "      <th>x8</th>\n",
       "      <th>x9</th>\n",
       "      <th>x10</th>\n",
       "    </tr>\n",
       "  </thead>\n",
       "  <tbody>\n",
       "    <tr>\n",
       "      <th>110</th>\n",
       "      <td>78</td>\n",
       "      <td>17.7</td>\n",
       "      <td>20.2</td>\n",
       "      <td>21.5</td>\n",
       "      <td>5</td>\n",
       "      <td>5</td>\n",
       "      <td>3</td>\n",
       "      <td>0.0000</td>\n",
       "      <td>0.5209</td>\n",
       "      <td>0.0000</td>\n",
       "      <td>59</td>\n",
       "    </tr>\n",
       "    <tr>\n",
       "      <th>19</th>\n",
       "      <td>108</td>\n",
       "      <td>24.0</td>\n",
       "      <td>23.5</td>\n",
       "      <td>25.1</td>\n",
       "      <td>4</td>\n",
       "      <td>4</td>\n",
       "      <td>0</td>\n",
       "      <td>-2.5712</td>\n",
       "      <td>-3.8567</td>\n",
       "      <td>-4.6985</td>\n",
       "      <td>146</td>\n",
       "    </tr>\n",
       "    <tr>\n",
       "      <th>69</th>\n",
       "      <td>117</td>\n",
       "      <td>21.6</td>\n",
       "      <td>26.9</td>\n",
       "      <td>28.6</td>\n",
       "      <td>6</td>\n",
       "      <td>6</td>\n",
       "      <td>4</td>\n",
       "      <td>1.5321</td>\n",
       "      <td>1.9284</td>\n",
       "      <td>1.9284</td>\n",
       "      <td>113</td>\n",
       "    </tr>\n",
       "    <tr>\n",
       "      <th>50</th>\n",
       "      <td>156</td>\n",
       "      <td>24.9</td>\n",
       "      <td>30.5</td>\n",
       "      <td>32.2</td>\n",
       "      <td>0</td>\n",
       "      <td>1</td>\n",
       "      <td>4</td>\n",
       "      <td>-0.5000</td>\n",
       "      <td>-1.8794</td>\n",
       "      <td>-1.2856</td>\n",
       "      <td>160</td>\n",
       "    </tr>\n",
       "    <tr>\n",
       "      <th>65</th>\n",
       "      <td>109</td>\n",
       "      <td>20.8</td>\n",
       "      <td>23.7</td>\n",
       "      <td>26.6</td>\n",
       "      <td>8</td>\n",
       "      <td>5</td>\n",
       "      <td>4</td>\n",
       "      <td>-1.0261</td>\n",
       "      <td>-1.7101</td>\n",
       "      <td>-3.2139</td>\n",
       "      <td>116</td>\n",
       "    </tr>\n",
       "    <tr>\n",
       "      <th>...</th>\n",
       "      <td>...</td>\n",
       "      <td>...</td>\n",
       "      <td>...</td>\n",
       "      <td>...</td>\n",
       "      <td>...</td>\n",
       "      <td>...</td>\n",
       "      <td>...</td>\n",
       "      <td>...</td>\n",
       "      <td>...</td>\n",
       "      <td>...</td>\n",
       "      <td>...</td>\n",
       "    </tr>\n",
       "    <tr>\n",
       "      <th>28</th>\n",
       "      <td>113</td>\n",
       "      <td>17.5</td>\n",
       "      <td>18.2</td>\n",
       "      <td>22.7</td>\n",
       "      <td>8</td>\n",
       "      <td>8</td>\n",
       "      <td>5</td>\n",
       "      <td>-3.7588</td>\n",
       "      <td>-3.9392</td>\n",
       "      <td>-4.6985</td>\n",
       "      <td>97</td>\n",
       "    </tr>\n",
       "    <tr>\n",
       "      <th>95</th>\n",
       "      <td>76</td>\n",
       "      <td>13.3</td>\n",
       "      <td>17.7</td>\n",
       "      <td>17.7</td>\n",
       "      <td>7</td>\n",
       "      <td>7</td>\n",
       "      <td>6</td>\n",
       "      <td>-0.9397</td>\n",
       "      <td>-0.7660</td>\n",
       "      <td>-0.5000</td>\n",
       "      <td>92</td>\n",
       "    </tr>\n",
       "    <tr>\n",
       "      <th>15</th>\n",
       "      <td>81</td>\n",
       "      <td>16.2</td>\n",
       "      <td>22.4</td>\n",
       "      <td>23.4</td>\n",
       "      <td>8</td>\n",
       "      <td>3</td>\n",
       "      <td>1</td>\n",
       "      <td>0.0000</td>\n",
       "      <td>0.3473</td>\n",
       "      <td>-2.5712</td>\n",
       "      <td>145</td>\n",
       "    </tr>\n",
       "    <tr>\n",
       "      <th>90</th>\n",
       "      <td>42</td>\n",
       "      <td>12.7</td>\n",
       "      <td>14.3</td>\n",
       "      <td>14.9</td>\n",
       "      <td>8</td>\n",
       "      <td>7</td>\n",
       "      <td>7</td>\n",
       "      <td>-2.5000</td>\n",
       "      <td>-3.2139</td>\n",
       "      <td>-2.5000</td>\n",
       "      <td>60</td>\n",
       "    </tr>\n",
       "    <tr>\n",
       "      <th>99</th>\n",
       "      <td>83</td>\n",
       "      <td>16.9</td>\n",
       "      <td>19.8</td>\n",
       "      <td>22.1</td>\n",
       "      <td>6</td>\n",
       "      <td>5</td>\n",
       "      <td>3</td>\n",
       "      <td>-4.0000</td>\n",
       "      <td>-3.7588</td>\n",
       "      <td>-4.0000</td>\n",
       "      <td>99</td>\n",
       "    </tr>\n",
       "  </tbody>\n",
       "</table>\n",
       "<p>83 rows × 11 columns</p>\n",
       "</div>"
      ],
      "text/plain": [
       "       y    x1    x2    x3  x4  x5  x6      x7      x8      x9  x10\n",
       "110   78  17.7  20.2  21.5   5   5   3  0.0000  0.5209  0.0000   59\n",
       "19   108  24.0  23.5  25.1   4   4   0 -2.5712 -3.8567 -4.6985  146\n",
       "69   117  21.6  26.9  28.6   6   6   4  1.5321  1.9284  1.9284  113\n",
       "50   156  24.9  30.5  32.2   0   1   4 -0.5000 -1.8794 -1.2856  160\n",
       "65   109  20.8  23.7  26.6   8   5   4 -1.0261 -1.7101 -3.2139  116\n",
       "..   ...   ...   ...   ...  ..  ..  ..     ...     ...     ...  ...\n",
       "28   113  17.5  18.2  22.7   8   8   5 -3.7588 -3.9392 -4.6985   97\n",
       "95    76  13.3  17.7  17.7   7   7   6 -0.9397 -0.7660 -0.5000   92\n",
       "15    81  16.2  22.4  23.4   8   3   1  0.0000  0.3473 -2.5712  145\n",
       "90    42  12.7  14.3  14.9   8   7   7 -2.5000 -3.2139 -2.5000   60\n",
       "99    83  16.9  19.8  22.1   6   5   3 -4.0000 -3.7588 -4.0000   99\n",
       "\n",
       "[83 rows x 11 columns]"
      ]
     },
     "execution_count": 40,
     "metadata": {},
     "output_type": "execute_result"
    }
   ],
   "source": [
    "train"
   ]
  },
  {
   "cell_type": "code",
   "execution_count": 41,
   "metadata": {},
   "outputs": [
    {
     "data": {
      "text/html": [
       "<div>\n",
       "<style scoped>\n",
       "    .dataframe tbody tr th:only-of-type {\n",
       "        vertical-align: middle;\n",
       "    }\n",
       "\n",
       "    .dataframe tbody tr th {\n",
       "        vertical-align: top;\n",
       "    }\n",
       "\n",
       "    .dataframe thead th {\n",
       "        text-align: right;\n",
       "    }\n",
       "</style>\n",
       "<table border=\"1\" class=\"dataframe\">\n",
       "  <thead>\n",
       "    <tr style=\"text-align: right;\">\n",
       "      <th></th>\n",
       "      <th>y</th>\n",
       "      <th>x1</th>\n",
       "      <th>x2</th>\n",
       "      <th>x3</th>\n",
       "      <th>x4</th>\n",
       "      <th>x5</th>\n",
       "      <th>x6</th>\n",
       "      <th>x7</th>\n",
       "      <th>x8</th>\n",
       "      <th>x9</th>\n",
       "      <th>x10</th>\n",
       "    </tr>\n",
       "  </thead>\n",
       "  <tbody>\n",
       "    <tr>\n",
       "      <th>70</th>\n",
       "      <td>131</td>\n",
       "      <td>22.7</td>\n",
       "      <td>28.4</td>\n",
       "      <td>30.1</td>\n",
       "      <td>5</td>\n",
       "      <td>3</td>\n",
       "      <td>3</td>\n",
       "      <td>0.1736</td>\n",
       "      <td>-1.9696</td>\n",
       "      <td>-1.9284</td>\n",
       "      <td>117</td>\n",
       "    </tr>\n",
       "    <tr>\n",
       "      <th>1</th>\n",
       "      <td>82</td>\n",
       "      <td>17.0</td>\n",
       "      <td>18.4</td>\n",
       "      <td>17.7</td>\n",
       "      <td>5</td>\n",
       "      <td>5</td>\n",
       "      <td>7</td>\n",
       "      <td>-4.3301</td>\n",
       "      <td>-4.0000</td>\n",
       "      <td>-3.0000</td>\n",
       "      <td>87</td>\n",
       "    </tr>\n",
       "    <tr>\n",
       "      <th>46</th>\n",
       "      <td>153</td>\n",
       "      <td>23.8</td>\n",
       "      <td>27.7</td>\n",
       "      <td>29.4</td>\n",
       "      <td>1</td>\n",
       "      <td>1</td>\n",
       "      <td>4</td>\n",
       "      <td>0.9397</td>\n",
       "      <td>1.5000</td>\n",
       "      <td>0.0000</td>\n",
       "      <td>149</td>\n",
       "    </tr>\n",
       "    <tr>\n",
       "      <th>5</th>\n",
       "      <td>80</td>\n",
       "      <td>17.7</td>\n",
       "      <td>19.8</td>\n",
       "      <td>18.3</td>\n",
       "      <td>6</td>\n",
       "      <td>6</td>\n",
       "      <td>7</td>\n",
       "      <td>-5.6382</td>\n",
       "      <td>-5.0000</td>\n",
       "      <td>-6.0000</td>\n",
       "      <td>94</td>\n",
       "    </tr>\n",
       "    <tr>\n",
       "      <th>48</th>\n",
       "      <td>149</td>\n",
       "      <td>23.3</td>\n",
       "      <td>27.6</td>\n",
       "      <td>28.8</td>\n",
       "      <td>4</td>\n",
       "      <td>6</td>\n",
       "      <td>3</td>\n",
       "      <td>0.8660</td>\n",
       "      <td>-1.5321</td>\n",
       "      <td>-0.1736</td>\n",
       "      <td>159</td>\n",
       "    </tr>\n",
       "    <tr>\n",
       "      <th>31</th>\n",
       "      <td>71</td>\n",
       "      <td>19.2</td>\n",
       "      <td>21.0</td>\n",
       "      <td>22.4</td>\n",
       "      <td>6</td>\n",
       "      <td>4</td>\n",
       "      <td>6</td>\n",
       "      <td>-7.8785</td>\n",
       "      <td>-6.8937</td>\n",
       "      <td>-6.8937</td>\n",
       "      <td>77</td>\n",
       "    </tr>\n",
       "    <tr>\n",
       "      <th>54</th>\n",
       "      <td>77</td>\n",
       "      <td>20.0</td>\n",
       "      <td>18.2</td>\n",
       "      <td>23.6</td>\n",
       "      <td>5</td>\n",
       "      <td>7</td>\n",
       "      <td>6</td>\n",
       "      <td>-3.4641</td>\n",
       "      <td>-2.5981</td>\n",
       "      <td>-3.7588</td>\n",
       "      <td>116</td>\n",
       "    </tr>\n",
       "    <tr>\n",
       "      <th>2</th>\n",
       "      <td>92</td>\n",
       "      <td>15.3</td>\n",
       "      <td>17.6</td>\n",
       "      <td>19.5</td>\n",
       "      <td>2</td>\n",
       "      <td>5</td>\n",
       "      <td>4</td>\n",
       "      <td>2.9544</td>\n",
       "      <td>1.8794</td>\n",
       "      <td>0.5209</td>\n",
       "      <td>82</td>\n",
       "    </tr>\n",
       "    <tr>\n",
       "      <th>56</th>\n",
       "      <td>54</td>\n",
       "      <td>18.6</td>\n",
       "      <td>18.7</td>\n",
       "      <td>17.8</td>\n",
       "      <td>8</td>\n",
       "      <td>8</td>\n",
       "      <td>8</td>\n",
       "      <td>-4.6985</td>\n",
       "      <td>-2.5000</td>\n",
       "      <td>-0.8682</td>\n",
       "      <td>63</td>\n",
       "    </tr>\n",
       "    <tr>\n",
       "      <th>76</th>\n",
       "      <td>101</td>\n",
       "      <td>16.9</td>\n",
       "      <td>17.8</td>\n",
       "      <td>20.6</td>\n",
       "      <td>7</td>\n",
       "      <td>7</td>\n",
       "      <td>7</td>\n",
       "      <td>-2.0000</td>\n",
       "      <td>-0.5209</td>\n",
       "      <td>1.8794</td>\n",
       "      <td>112</td>\n",
       "    </tr>\n",
       "    <tr>\n",
       "      <th>86</th>\n",
       "      <td>74</td>\n",
       "      <td>15.8</td>\n",
       "      <td>18.7</td>\n",
       "      <td>19.1</td>\n",
       "      <td>8</td>\n",
       "      <td>7</td>\n",
       "      <td>7</td>\n",
       "      <td>-4.5963</td>\n",
       "      <td>-6.8937</td>\n",
       "      <td>-7.5175</td>\n",
       "      <td>78</td>\n",
       "    </tr>\n",
       "    <tr>\n",
       "      <th>47</th>\n",
       "      <td>159</td>\n",
       "      <td>24.0</td>\n",
       "      <td>28.3</td>\n",
       "      <td>26.5</td>\n",
       "      <td>2</td>\n",
       "      <td>2</td>\n",
       "      <td>7</td>\n",
       "      <td>-0.3420</td>\n",
       "      <td>1.2856</td>\n",
       "      <td>-2.0000</td>\n",
       "      <td>153</td>\n",
       "    </tr>\n",
       "    <tr>\n",
       "      <th>67</th>\n",
       "      <td>76</td>\n",
       "      <td>17.8</td>\n",
       "      <td>21.3</td>\n",
       "      <td>24.0</td>\n",
       "      <td>7</td>\n",
       "      <td>5</td>\n",
       "      <td>5</td>\n",
       "      <td>-3.0642</td>\n",
       "      <td>-2.2981</td>\n",
       "      <td>-3.9392</td>\n",
       "      <td>67</td>\n",
       "    </tr>\n",
       "    <tr>\n",
       "      <th>35</th>\n",
       "      <td>67</td>\n",
       "      <td>16.9</td>\n",
       "      <td>19.1</td>\n",
       "      <td>19.5</td>\n",
       "      <td>5</td>\n",
       "      <td>5</td>\n",
       "      <td>6</td>\n",
       "      <td>-2.2981</td>\n",
       "      <td>-3.7588</td>\n",
       "      <td>0.0000</td>\n",
       "      <td>67</td>\n",
       "    </tr>\n",
       "    <tr>\n",
       "      <th>89</th>\n",
       "      <td>71</td>\n",
       "      <td>15.4</td>\n",
       "      <td>17.7</td>\n",
       "      <td>16.6</td>\n",
       "      <td>4</td>\n",
       "      <td>5</td>\n",
       "      <td>5</td>\n",
       "      <td>-3.8302</td>\n",
       "      <td>0.0000</td>\n",
       "      <td>1.3892</td>\n",
       "      <td>69</td>\n",
       "    </tr>\n",
       "    <tr>\n",
       "      <th>93</th>\n",
       "      <td>98</td>\n",
       "      <td>15.2</td>\n",
       "      <td>19.7</td>\n",
       "      <td>20.3</td>\n",
       "      <td>2</td>\n",
       "      <td>2</td>\n",
       "      <td>2</td>\n",
       "      <td>4.0000</td>\n",
       "      <td>5.0000</td>\n",
       "      <td>4.3301</td>\n",
       "      <td>96</td>\n",
       "    </tr>\n",
       "    <tr>\n",
       "      <th>79</th>\n",
       "      <td>76</td>\n",
       "      <td>17.3</td>\n",
       "      <td>22.7</td>\n",
       "      <td>24.6</td>\n",
       "      <td>4</td>\n",
       "      <td>5</td>\n",
       "      <td>6</td>\n",
       "      <td>-2.9544</td>\n",
       "      <td>-2.9544</td>\n",
       "      <td>-2.0000</td>\n",
       "      <td>78</td>\n",
       "    </tr>\n",
       "    <tr>\n",
       "      <th>23</th>\n",
       "      <td>70</td>\n",
       "      <td>18.8</td>\n",
       "      <td>22.7</td>\n",
       "      <td>24.9</td>\n",
       "      <td>5</td>\n",
       "      <td>2</td>\n",
       "      <td>1</td>\n",
       "      <td>0.6840</td>\n",
       "      <td>0.0000</td>\n",
       "      <td>1.3681</td>\n",
       "      <td>67</td>\n",
       "    </tr>\n",
       "    <tr>\n",
       "      <th>36</th>\n",
       "      <td>84</td>\n",
       "      <td>17.4</td>\n",
       "      <td>20.4</td>\n",
       "      <td>21.4</td>\n",
       "      <td>3</td>\n",
       "      <td>4</td>\n",
       "      <td>6</td>\n",
       "      <td>0.0000</td>\n",
       "      <td>0.3473</td>\n",
       "      <td>-2.5981</td>\n",
       "      <td>67</td>\n",
       "    </tr>\n",
       "    <tr>\n",
       "      <th>97</th>\n",
       "      <td>77</td>\n",
       "      <td>16.2</td>\n",
       "      <td>20.8</td>\n",
       "      <td>22.1</td>\n",
       "      <td>6</td>\n",
       "      <td>5</td>\n",
       "      <td>5</td>\n",
       "      <td>-0.6946</td>\n",
       "      <td>-2.0000</td>\n",
       "      <td>-1.3681</td>\n",
       "      <td>71</td>\n",
       "    </tr>\n",
       "    <tr>\n",
       "      <th>12</th>\n",
       "      <td>83</td>\n",
       "      <td>15.4</td>\n",
       "      <td>17.4</td>\n",
       "      <td>16.6</td>\n",
       "      <td>8</td>\n",
       "      <td>7</td>\n",
       "      <td>7</td>\n",
       "      <td>-4.3301</td>\n",
       "      <td>-2.0521</td>\n",
       "      <td>-3.0000</td>\n",
       "      <td>70</td>\n",
       "    </tr>\n",
       "    <tr>\n",
       "      <th>0</th>\n",
       "      <td>87</td>\n",
       "      <td>15.6</td>\n",
       "      <td>18.5</td>\n",
       "      <td>18.4</td>\n",
       "      <td>4</td>\n",
       "      <td>4</td>\n",
       "      <td>8</td>\n",
       "      <td>0.6946</td>\n",
       "      <td>-1.7101</td>\n",
       "      <td>-0.6946</td>\n",
       "      <td>84</td>\n",
       "    </tr>\n",
       "    <tr>\n",
       "      <th>106</th>\n",
       "      <td>59</td>\n",
       "      <td>18.3</td>\n",
       "      <td>18.3</td>\n",
       "      <td>19.0</td>\n",
       "      <td>7</td>\n",
       "      <td>7</td>\n",
       "      <td>7</td>\n",
       "      <td>-3.9392</td>\n",
       "      <td>-1.9284</td>\n",
       "      <td>-1.7101</td>\n",
       "      <td>66</td>\n",
       "    </tr>\n",
       "    <tr>\n",
       "      <th>104</th>\n",
       "      <td>72</td>\n",
       "      <td>18.1</td>\n",
       "      <td>21.2</td>\n",
       "      <td>23.9</td>\n",
       "      <td>7</td>\n",
       "      <td>6</td>\n",
       "      <td>4</td>\n",
       "      <td>-2.5981</td>\n",
       "      <td>-3.9392</td>\n",
       "      <td>-3.7588</td>\n",
       "      <td>113</td>\n",
       "    </tr>\n",
       "    <tr>\n",
       "      <th>44</th>\n",
       "      <td>83</td>\n",
       "      <td>19.0</td>\n",
       "      <td>22.5</td>\n",
       "      <td>24.1</td>\n",
       "      <td>2</td>\n",
       "      <td>4</td>\n",
       "      <td>6</td>\n",
       "      <td>0.0000</td>\n",
       "      <td>-1.0261</td>\n",
       "      <td>0.5209</td>\n",
       "      <td>81</td>\n",
       "    </tr>\n",
       "    <tr>\n",
       "      <th>39</th>\n",
       "      <td>92</td>\n",
       "      <td>16.7</td>\n",
       "      <td>19.1</td>\n",
       "      <td>19.3</td>\n",
       "      <td>7</td>\n",
       "      <td>6</td>\n",
       "      <td>4</td>\n",
       "      <td>-2.0521</td>\n",
       "      <td>-4.4995</td>\n",
       "      <td>-2.7362</td>\n",
       "      <td>69</td>\n",
       "    </tr>\n",
       "    <tr>\n",
       "      <th>37</th>\n",
       "      <td>63</td>\n",
       "      <td>15.1</td>\n",
       "      <td>20.5</td>\n",
       "      <td>20.6</td>\n",
       "      <td>8</td>\n",
       "      <td>6</td>\n",
       "      <td>6</td>\n",
       "      <td>2.0000</td>\n",
       "      <td>-5.3623</td>\n",
       "      <td>-6.1284</td>\n",
       "      <td>84</td>\n",
       "    </tr>\n",
       "    <tr>\n",
       "      <th>38</th>\n",
       "      <td>69</td>\n",
       "      <td>15.1</td>\n",
       "      <td>15.6</td>\n",
       "      <td>15.9</td>\n",
       "      <td>8</td>\n",
       "      <td>8</td>\n",
       "      <td>8</td>\n",
       "      <td>-4.5963</td>\n",
       "      <td>-3.8302</td>\n",
       "      <td>-4.3301</td>\n",
       "      <td>63</td>\n",
       "    </tr>\n",
       "  </tbody>\n",
       "</table>\n",
       "</div>"
      ],
      "text/plain": [
       "       y    x1    x2    x3  x4  x5  x6      x7      x8      x9  x10\n",
       "70   131  22.7  28.4  30.1   5   3   3  0.1736 -1.9696 -1.9284  117\n",
       "1     82  17.0  18.4  17.7   5   5   7 -4.3301 -4.0000 -3.0000   87\n",
       "46   153  23.8  27.7  29.4   1   1   4  0.9397  1.5000  0.0000  149\n",
       "5     80  17.7  19.8  18.3   6   6   7 -5.6382 -5.0000 -6.0000   94\n",
       "48   149  23.3  27.6  28.8   4   6   3  0.8660 -1.5321 -0.1736  159\n",
       "31    71  19.2  21.0  22.4   6   4   6 -7.8785 -6.8937 -6.8937   77\n",
       "54    77  20.0  18.2  23.6   5   7   6 -3.4641 -2.5981 -3.7588  116\n",
       "2     92  15.3  17.6  19.5   2   5   4  2.9544  1.8794  0.5209   82\n",
       "56    54  18.6  18.7  17.8   8   8   8 -4.6985 -2.5000 -0.8682   63\n",
       "76   101  16.9  17.8  20.6   7   7   7 -2.0000 -0.5209  1.8794  112\n",
       "86    74  15.8  18.7  19.1   8   7   7 -4.5963 -6.8937 -7.5175   78\n",
       "47   159  24.0  28.3  26.5   2   2   7 -0.3420  1.2856 -2.0000  153\n",
       "67    76  17.8  21.3  24.0   7   5   5 -3.0642 -2.2981 -3.9392   67\n",
       "35    67  16.9  19.1  19.5   5   5   6 -2.2981 -3.7588  0.0000   67\n",
       "89    71  15.4  17.7  16.6   4   5   5 -3.8302  0.0000  1.3892   69\n",
       "93    98  15.2  19.7  20.3   2   2   2  4.0000  5.0000  4.3301   96\n",
       "79    76  17.3  22.7  24.6   4   5   6 -2.9544 -2.9544 -2.0000   78\n",
       "23    70  18.8  22.7  24.9   5   2   1  0.6840  0.0000  1.3681   67\n",
       "36    84  17.4  20.4  21.4   3   4   6  0.0000  0.3473 -2.5981   67\n",
       "97    77  16.2  20.8  22.1   6   5   5 -0.6946 -2.0000 -1.3681   71\n",
       "12    83  15.4  17.4  16.6   8   7   7 -4.3301 -2.0521 -3.0000   70\n",
       "0     87  15.6  18.5  18.4   4   4   8  0.6946 -1.7101 -0.6946   84\n",
       "106   59  18.3  18.3  19.0   7   7   7 -3.9392 -1.9284 -1.7101   66\n",
       "104   72  18.1  21.2  23.9   7   6   4 -2.5981 -3.9392 -3.7588  113\n",
       "44    83  19.0  22.5  24.1   2   4   6  0.0000 -1.0261  0.5209   81\n",
       "39    92  16.7  19.1  19.3   7   6   4 -2.0521 -4.4995 -2.7362   69\n",
       "37    63  15.1  20.5  20.6   8   6   6  2.0000 -5.3623 -6.1284   84\n",
       "38    69  15.1  15.6  15.9   8   8   8 -4.5963 -3.8302 -4.3301   63"
      ]
     },
     "execution_count": 41,
     "metadata": {},
     "output_type": "execute_result"
    }
   ],
   "source": [
    "test"
   ]
  },
  {
   "cell_type": "raw",
   "metadata": {},
   "source": [
    "You can now easily estimate the generalization error of a regression model using the procedure shown in the CM:\n",
    " - fit a regression model with the train data (with predictive variables that you want)\n",
    " - predict using this model the individuals of the test set\n",
    " - compute the mean squared error of these predictions : it is the estimation of the generalization error\n",
    "Question : write a function 'generalization_error_split(train, test, idx_p, idx_t)' that estimates the generaliztion error by a train / test split procedure (with the train and test sets given in parameters) for a regression model that uses the variables in the columns of index idx_p to predict the target variable of index idx_t (in the datasets)\n",
    "Hint : with the functions my_regression and my_predictions above, it is quite easy\n",
    "Apply it to estimate the generalization error of a regression model that predicts y using x1."
   ]
  },
  {
   "cell_type": "code",
   "execution_count": 42,
   "metadata": {},
   "outputs": [
    {
     "data": {
      "text/plain": [
       "229.44106488635316"
      ]
     },
     "execution_count": 42,
     "metadata": {},
     "output_type": "execute_result"
    }
   ],
   "source": [
    "model =my_regression(train,[10],0)\n",
    "predictions = my_prediction(model,test)\n",
    "predictions\n",
    "np.mean((predictions-test.iloc[:,0])**2)"
   ]
  },
  {
   "cell_type": "code",
   "execution_count": 43,
   "metadata": {},
   "outputs": [
    {
     "data": {
      "text/plain": [
       "229.44106488635316"
      ]
     },
     "execution_count": 43,
     "metadata": {},
     "output_type": "execute_result"
    }
   ],
   "source": [
    "I_r = np.mean((test['y'] - predictions)**2)\n",
    "I_r"
   ]
  },
  {
   "cell_type": "code",
   "execution_count": 44,
   "metadata": {},
   "outputs": [
    {
     "data": {
      "text/plain": [
       "<statsmodels.regression.linear_model.RegressionResultsWrapper at 0x7fbb59e11640>"
      ]
     },
     "execution_count": 44,
     "metadata": {},
     "output_type": "execute_result"
    }
   ],
   "source": [
    "model =my_regression(train,[1],0)\n",
    "model"
   ]
  },
  {
   "cell_type": "code",
   "execution_count": 45,
   "metadata": {},
   "outputs": [
    {
     "data": {
      "text/plain": [
       "70     117.754739\n",
       "1       80.950972\n",
       "46     124.857220\n",
       "5       85.470732\n",
       "48     121.628819\n",
       "31      95.155934\n",
       "54     100.321375\n",
       "2       69.974409\n",
       "56      91.281854\n",
       "76      80.305291\n",
       "86      73.202810\n",
       "47     126.148580\n",
       "67      86.116413\n",
       "35      80.305291\n",
       "89      70.620090\n",
       "93      69.328729\n",
       "79      82.888012\n",
       "23      92.573214\n",
       "36      83.533692\n",
       "97      75.785531\n",
       "12      70.620090\n",
       "0       71.911450\n",
       "106     89.344813\n",
       "104     88.053453\n",
       "44      93.864574\n",
       "39      79.013931\n",
       "37      68.683049\n",
       "38      68.683049\n",
       "dtype: float64"
      ]
     },
     "execution_count": 45,
     "metadata": {},
     "output_type": "execute_result"
    }
   ],
   "source": [
    "predictions = my_prediction(model,test)\n",
    "predictions"
   ]
  },
  {
   "cell_type": "code",
   "execution_count": 46,
   "metadata": {},
   "outputs": [
    {
     "data": {
      "text/plain": [
       "349.8933173728155"
      ]
     },
     "execution_count": 46,
     "metadata": {},
     "output_type": "execute_result"
    }
   ],
   "source": [
    "I_r = np.mean((test.iloc[:,0] - predictions)**2)\n",
    "I_r"
   ]
  },
  {
   "cell_type": "code",
   "execution_count": 47,
   "metadata": {},
   "outputs": [],
   "source": [
    "def generalization_error_split(train, test, idx_p, idx_t):\n",
    "    #model =my_regression(train,[10],0)\n",
    "    #predictions = my_prediction(model,test)\n",
    "    #np.mean((predictions-test.iloc[:,0])**2)\n",
    "    \n",
    "    mod =my_regression(train,idx_p,idx_t)\n",
    "    pred = my_prediction(mod,test)\n",
    "    diff = pred-test.iloc[:,idx_t]\n",
    "    I_r = np.mean(diff**2)\n",
    "    \n",
    "    return(I_r)"
   ]
  },
  {
   "cell_type": "raw",
   "metadata": {},
   "source": [
    "def generalization_error_split(train, test, idx_p, idx_t):\n",
    "   \n",
    "    model = my_regression(train, idx_p, idx_t)\n",
    "    #my_prediction(model,test)\n",
    "   \n",
    "    diff = test.iloc[:,0] - my_prediction(model,test)\n",
    "    sqr = pow(diff,2)\n",
    "    print(f\"EQM est: {np.mean(sqr)}\")"
   ]
  },
  {
   "cell_type": "code",
   "execution_count": 48,
   "metadata": {},
   "outputs": [
    {
     "data": {
      "text/plain": [
       "306.78565783111577"
      ]
     },
     "execution_count": 48,
     "metadata": {},
     "output_type": "execute_result"
    }
   ],
   "source": [
    "generalization_error_split(train, test, 2, 0)"
   ]
  },
  {
   "cell_type": "raw",
   "metadata": {},
   "source": [
    "5) What is the best single variable to predict y ? What is the estimation of the generalization error of such a model ?"
   ]
  },
  {
   "cell_type": "code",
   "execution_count": 50,
   "metadata": {
    "scrolled": true
   },
   "outputs": [
    {
     "name": "stdout",
     "output_type": "stream",
     "text": [
      "349.8933173728155\n",
      "306.78565783111577\n",
      "408.0046826177133\n",
      "497.4068155876456\n",
      "537.3194762458469\n",
      "673.3548910931984\n",
      "610.7579079141307\n",
      "585.9510471825889\n",
      "713.1390398579188\n",
      "229.44106488635316\n"
     ]
    }
   ],
   "source": [
    "for j in np.arange (1,ozoneAll.shape[1]):\n",
    "    print(generalization_error_split(train, test, [j], 0))\n",
    "    #print(j)\n"
   ]
  },
  {
   "cell_type": "raw",
   "metadata": {},
   "source": [
    "The best one is the X10"
   ]
  },
  {
   "cell_type": "raw",
   "metadata": {},
   "source": [
    "Excepeted result from Professor (Simon Malinowski)\n",
    "1\n",
    "349.8933173728155\n",
    "2\n",
    "306.78565783111577\n",
    "3\n",
    "408.0046826177133\n",
    "4\n",
    "497.4068155876456\n",
    "5\n",
    "537.3194762458469\n",
    "6\n",
    "673.3548910931984\n",
    "7\n",
    "610.7579079141307\n",
    "8\n",
    "585.9510471825889\n",
    "9\n",
    "713.1390398579188\n",
    "10\n",
    "229.44106488635316"
   ]
  },
  {
   "cell_type": "raw",
   "metadata": {},
   "source": [
    "6) Is the model using variables x2 and x3 better than the one using x2 only ?"
   ]
  },
  {
   "cell_type": "code",
   "execution_count": 53,
   "metadata": {},
   "outputs": [
    {
     "data": {
      "text/plain": [
       "361.9297843156946"
      ]
     },
     "execution_count": 53,
     "metadata": {},
     "output_type": "execute_result"
    }
   ],
   "source": [
    "error2_3 =generalization_error_split(train, test, [2,3], 0)\n",
    "error2_3\n"
   ]
  },
  {
   "cell_type": "code",
   "execution_count": 54,
   "metadata": {},
   "outputs": [
    {
     "data": {
      "text/plain": [
       "306.78565783111577"
      ]
     },
     "execution_count": 54,
     "metadata": {},
     "output_type": "execute_result"
    }
   ],
   "source": [
    "error2 = generalization_error_split(train, test, [2], 0)\n",
    "error2"
   ]
  },
  {
   "cell_type": "raw",
   "metadata": {},
   "source": [
    "NO, single X2 is better"
   ]
  },
  {
   "cell_type": "raw",
   "metadata": {},
   "source": [
    "7) Is the model using all the variables (x1 to x10) better than the one using x2 only ?"
   ]
  },
  {
   "cell_type": "code",
   "execution_count": 55,
   "metadata": {},
   "outputs": [
    {
     "data": {
      "text/plain": [
       "224.18479524388653"
      ]
     },
     "execution_count": 55,
     "metadata": {},
     "output_type": "execute_result"
    }
   ],
   "source": [
    "generalization_error_split(train, test, [1,2,3,4,5,6,7,8,9,10], 0)"
   ]
  },
  {
   "cell_type": "raw",
   "metadata": {},
   "source": [
    "It is better , but it can be wrong due to number of variables"
   ]
  },
  {
   "cell_type": "raw",
   "metadata": {},
   "source": [
    "8) Is the model using variables x2, x4, x8, x10 better than the one using all the variables ?"
   ]
  },
  {
   "cell_type": "code",
   "execution_count": 56,
   "metadata": {},
   "outputs": [
    {
     "data": {
      "text/plain": [
       "151.04317778126762"
      ]
     },
     "execution_count": 56,
     "metadata": {},
     "output_type": "execute_result"
    }
   ],
   "source": [
    "generalization_error_split(train, test, [2,4,8,10], 0)"
   ]
  },
  {
   "cell_type": "raw",
   "metadata": {},
   "source": [
    "The train/test split procedure is one way to estimate the generalization error of a regression model. One of its main drawback is that it is not very stable as it is really dependent on the random split. Two different splits might give very different estimations of the generalization error.\n",
    "A more stable way to estimate the generalization error is the K-fold cross validation procedure as explained in the CM. You will implement this a bit later during next TP."
   ]
  }
 ],
 "metadata": {
  "kernelspec": {
   "display_name": "Python 3",
   "language": "python",
   "name": "python3"
  },
  "language_info": {
   "codemirror_mode": {
    "name": "ipython",
    "version": 3
   },
   "file_extension": ".py",
   "mimetype": "text/x-python",
   "name": "python",
   "nbconvert_exporter": "python",
   "pygments_lexer": "ipython3",
   "version": "3.8.5"
  }
 },
 "nbformat": 4,
 "nbformat_minor": 4
}
